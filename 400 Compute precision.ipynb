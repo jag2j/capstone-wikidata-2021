{
 "cells": [
  {
   "cell_type": "markdown",
   "metadata": {},
   "source": [
    "### Average Precision for test data"
   ]
  },
  {
   "cell_type": "markdown",
   "metadata": {},
   "source": [
    "#### Import data"
   ]
  },
  {
   "cell_type": "code",
   "execution_count": 1,
   "metadata": {},
   "outputs": [],
   "source": [
    "import pandas as pd\n",
    "import numpy as np\n",
    "import os\n",
    "import glob\n",
    "import matplotlib.pyplot as plt\n",
    "%matplotlib inline\n",
    "\n",
    "pd.options.display.float_format = \"{:,.4f}\".format"
   ]
  },
  {
   "cell_type": "code",
   "execution_count": 2,
   "metadata": {},
   "outputs": [],
   "source": [
    "final_dir = \"/scratch/jag2j/final_data/\""
   ]
  },
  {
   "cell_type": "code",
   "execution_count": 3,
   "metadata": {},
   "outputs": [
    {
     "data": {
      "text/plain": [
       "['unknown2_result_cosine_wgt.csv',\n",
       " 'test_entities_P31_1000.csv',\n",
       " 'result_cosine_10plus.csv',\n",
       " '279-train_freq_matrix.csv',\n",
       " '31-train_freq_matrix_10plus.csv',\n",
       " '31-test-types_10plus.csv',\n",
       " 'unknown2_result_innerproduct.csv',\n",
       " 'result_pen_inner_prod_10plus.csv',\n",
       " 'result_cosine.csv',\n",
       " 'result_cosine_wgt_10plus.csv',\n",
       " '31-test-types.csv',\n",
       " 'unknown2_result_jaccard.csv',\n",
       " 'result_jaccard_wgt.csv',\n",
       " 'test_unknown_P31_10.csv',\n",
       " 'unknown2_result_pen_inner_prod_wgt.csv',\n",
       " 'unknown2_result_jaccard_wgt.csv',\n",
       " 'result_innerproduct_wgt_10plus.csv',\n",
       " 'result_manhattan_wgt.csv',\n",
       " 'result_innerproduct_wgt.csv',\n",
       " 'result_innerproduct_10plus.csv',\n",
       " 'result_jaccard_10plus.csv',\n",
       " 'result_manhattan_wgt_10plus.csv',\n",
       " 'result_jaccard.csv',\n",
       " 'unknown_results',\n",
       " 'unknown2_result_innerproduct_wgt.csv',\n",
       " 'result_cosine_wgt.csv',\n",
       " 'unknown2_result_manhattan_wgt.csv',\n",
       " 'result_pen_inner_prod.csv',\n",
       " 'unknown2_result_cosine.csv',\n",
       " 'result_manhattan_10plus.csv',\n",
       " 'result_manhattan.csv',\n",
       " 'aux',\n",
       " 'result_pen_inner_prod_wgt.csv',\n",
       " 'test1000_10plus.csv',\n",
       " '279-test-types.csv',\n",
       " 'result_jaccard_wgt_10plus.csv',\n",
       " 'unknown2_result_manhattan.csv',\n",
       " 'result_pen_inner_prod_wgt_10plus.csv',\n",
       " 'unknown2_result_pen_inner_prod.csv',\n",
       " 'test_entities_P279_1000.csv',\n",
       " 'result_innerproduct.csv',\n",
       " '31-train-types_10plus.csv',\n",
       " '31-train_freq_matrix.csv']"
      ]
     },
     "execution_count": 3,
     "metadata": {},
     "output_type": "execute_result"
    }
   ],
   "source": [
    "os.chdir(final_dir)\n",
    "os.listdir()"
   ]
  },
  {
   "cell_type": "code",
   "execution_count": 4,
   "metadata": {},
   "outputs": [
    {
     "data": {
      "text/plain": [
       "['result_cosine_10plus.csv',\n",
       " 'result_pen_inner_prod_10plus.csv',\n",
       " 'result_cosine.csv',\n",
       " 'result_cosine_wgt_10plus.csv',\n",
       " 'result_jaccard_wgt.csv',\n",
       " 'result_innerproduct_wgt_10plus.csv',\n",
       " 'result_manhattan_wgt.csv',\n",
       " 'result_innerproduct_wgt.csv',\n",
       " 'result_innerproduct_10plus.csv',\n",
       " 'result_jaccard_10plus.csv',\n",
       " 'result_manhattan_wgt_10plus.csv',\n",
       " 'result_jaccard.csv',\n",
       " 'result_cosine_wgt.csv',\n",
       " 'result_pen_inner_prod.csv',\n",
       " 'result_manhattan_10plus.csv',\n",
       " 'result_manhattan.csv',\n",
       " 'result_pen_inner_prod_wgt.csv',\n",
       " 'result_jaccard_wgt_10plus.csv',\n",
       " 'result_pen_inner_prod_wgt_10plus.csv',\n",
       " 'result_innerproduct.csv']"
      ]
     },
     "execution_count": 4,
     "metadata": {},
     "output_type": "execute_result"
    }
   ],
   "source": [
    "result_list = glob.glob('result*.csv')\n",
    "result_list"
   ]
  },
  {
   "cell_type": "code",
   "execution_count": 5,
   "metadata": {},
   "outputs": [],
   "source": [
    "cosine_10plus = pd.read_csv(result_list[0]).groupby('entity')['type'].unique().apply(pd.Series)\n",
    "pen_inner_prod_10plus = pd.read_csv(result_list[1]).groupby('entity')['type'].unique().apply(pd.Series)\n",
    "cosine = pd.read_csv(result_list[2]).groupby('entity')['type'].unique().apply(pd.Series)\n",
    "cosine_wgt_10plus = pd.read_csv(result_list[3]).groupby('entity')['type'].unique().apply(pd.Series)\n",
    "jaccard_wgt = pd.read_csv(result_list[4]).groupby('entity')['type'].unique().apply(pd.Series)\n",
    "innerproduct_wgt_10plus = pd.read_csv(result_list[5]).groupby('entity')['type'].unique().apply(pd.Series)\n",
    "manhattan_wgt = pd.read_csv(result_list[6]).groupby('entity')['type'].unique().apply(pd.Series)\n",
    "innerproduct_wgt = pd.read_csv(result_list[7]).groupby('entity')['type'].unique().apply(pd.Series)\n",
    "innerproduct_10plus = pd.read_csv(result_list[8]).groupby('entity')['type'].unique().apply(pd.Series)\n",
    "jaccard_10plus = pd.read_csv(result_list[9]).groupby('entity')['type'].unique().apply(pd.Series)\n",
    "manhattan_wgt_10plus = pd.read_csv(result_list[10]).groupby('entity')['type'].unique().apply(pd.Series)\n",
    "jaccard = pd.read_csv(result_list[11]).groupby('entity')['type'].unique().apply(pd.Series)\n",
    "cosine_wgt = pd.read_csv(result_list[12]).groupby('entity')['type'].unique().apply(pd.Series)\n",
    "pen_inner_prod = pd.read_csv(result_list[13]).groupby('entity')['type'].unique().apply(pd.Series)\n",
    "manhattan_10plus = pd.read_csv(result_list[14]).groupby('entity')['type'].unique().apply(pd.Series)\n",
    "manhattan = pd.read_csv(result_list[15]).groupby('entity')['type'].unique().apply(pd.Series)\n",
    "pen_inner_prod_wgt = pd.read_csv(result_list[16]).groupby('entity')['type'].unique().apply(pd.Series)\n",
    "jaccard_wgt_10plus = pd.read_csv(result_list[17]).groupby('entity')['type'].unique().apply(pd.Series)\n",
    "pen_inner_prod_wgt_10plus = pd.read_csv(result_list[18]).groupby('entity')['type'].unique().apply(pd.Series)\n",
    "innerproduct = pd.read_csv(result_list[19]).groupby('entity')['type'].unique().apply(pd.Series)"
   ]
  },
  {
   "cell_type": "code",
   "execution_count": 6,
   "metadata": {},
   "outputs": [
    {
     "data": {
      "text/html": [
       "<div>\n",
       "<style scoped>\n",
       "    .dataframe tbody tr th:only-of-type {\n",
       "        vertical-align: middle;\n",
       "    }\n",
       "\n",
       "    .dataframe tbody tr th {\n",
       "        vertical-align: top;\n",
       "    }\n",
       "\n",
       "    .dataframe thead th {\n",
       "        text-align: right;\n",
       "    }\n",
       "</style>\n",
       "<table border=\"1\" class=\"dataframe\">\n",
       "  <thead>\n",
       "    <tr style=\"text-align: right;\">\n",
       "      <th></th>\n",
       "      <th>entity</th>\n",
       "      <th>true_type</th>\n",
       "    </tr>\n",
       "  </thead>\n",
       "  <tbody>\n",
       "    <tr>\n",
       "      <th>0</th>\n",
       "      <td>7795</td>\n",
       "      <td>484652</td>\n",
       "    </tr>\n",
       "    <tr>\n",
       "      <th>1</th>\n",
       "      <td>7795</td>\n",
       "      <td>431603</td>\n",
       "    </tr>\n",
       "    <tr>\n",
       "      <th>2</th>\n",
       "      <td>7795</td>\n",
       "      <td>245065</td>\n",
       "    </tr>\n",
       "    <tr>\n",
       "      <th>3</th>\n",
       "      <td>43789</td>\n",
       "      <td>5</td>\n",
       "    </tr>\n",
       "    <tr>\n",
       "      <th>4</th>\n",
       "      <td>89050</td>\n",
       "      <td>5</td>\n",
       "    </tr>\n",
       "  </tbody>\n",
       "</table>\n",
       "</div>"
      ],
      "text/plain": [
       "   entity  true_type\n",
       "0    7795     484652\n",
       "1    7795     431603\n",
       "2    7795     245065\n",
       "3   43789          5\n",
       "4   89050          5"
      ]
     },
     "execution_count": 6,
     "metadata": {},
     "output_type": "execute_result"
    }
   ],
   "source": [
    "# True types dataframe\n",
    "true_type_10 = pd.read_csv('31-test-types_10plus.csv').rename({'type':'true_type'}, axis=1)#.set_index('entity')\n",
    "true_type_10.head()"
   ]
  },
  {
   "cell_type": "code",
   "execution_count": 7,
   "metadata": {},
   "outputs": [
    {
     "data": {
      "text/html": [
       "<div>\n",
       "<style scoped>\n",
       "    .dataframe tbody tr th:only-of-type {\n",
       "        vertical-align: middle;\n",
       "    }\n",
       "\n",
       "    .dataframe tbody tr th {\n",
       "        vertical-align: top;\n",
       "    }\n",
       "\n",
       "    .dataframe thead th {\n",
       "        text-align: right;\n",
       "    }\n",
       "</style>\n",
       "<table border=\"1\" class=\"dataframe\">\n",
       "  <thead>\n",
       "    <tr style=\"text-align: right;\">\n",
       "      <th></th>\n",
       "      <th>entity</th>\n",
       "      <th>true_type</th>\n",
       "    </tr>\n",
       "  </thead>\n",
       "  <tbody>\n",
       "    <tr>\n",
       "      <th>0</th>\n",
       "      <td>34786</td>\n",
       "      <td>34770</td>\n",
       "    </tr>\n",
       "    <tr>\n",
       "      <th>1</th>\n",
       "      <td>34786</td>\n",
       "      <td>1288568</td>\n",
       "    </tr>\n",
       "    <tr>\n",
       "      <th>2</th>\n",
       "      <td>4348159</td>\n",
       "      <td>24333627</td>\n",
       "    </tr>\n",
       "    <tr>\n",
       "      <th>3</th>\n",
       "      <td>4690173</td>\n",
       "      <td>41710</td>\n",
       "    </tr>\n",
       "    <tr>\n",
       "      <th>4</th>\n",
       "      <td>5171337</td>\n",
       "      <td>16521</td>\n",
       "    </tr>\n",
       "  </tbody>\n",
       "</table>\n",
       "</div>"
      ],
      "text/plain": [
       "    entity  true_type\n",
       "0    34786      34770\n",
       "1    34786    1288568\n",
       "2  4348159   24333627\n",
       "3  4690173      41710\n",
       "4  5171337      16521"
      ]
     },
     "execution_count": 7,
     "metadata": {},
     "output_type": "execute_result"
    }
   ],
   "source": [
    "# True types dataframe\n",
    "true_type = pd.read_csv('31-test-types.csv').rename({'type':'true_type'}, axis=1)#.set_index('entity')\n",
    "true_type.head()"
   ]
  },
  {
   "cell_type": "code",
   "execution_count": 8,
   "metadata": {},
   "outputs": [
    {
     "data": {
      "text/html": [
       "<div>\n",
       "<style scoped>\n",
       "    .dataframe tbody tr th:only-of-type {\n",
       "        vertical-align: middle;\n",
       "    }\n",
       "\n",
       "    .dataframe tbody tr th {\n",
       "        vertical-align: top;\n",
       "    }\n",
       "\n",
       "    .dataframe thead th {\n",
       "        text-align: right;\n",
       "    }\n",
       "</style>\n",
       "<table border=\"1\" class=\"dataframe\">\n",
       "  <thead>\n",
       "    <tr style=\"text-align: right;\">\n",
       "      <th></th>\n",
       "      <th>0</th>\n",
       "      <th>1</th>\n",
       "      <th>2</th>\n",
       "      <th>3</th>\n",
       "      <th>4</th>\n",
       "      <th>5</th>\n",
       "      <th>6</th>\n",
       "      <th>7</th>\n",
       "    </tr>\n",
       "    <tr>\n",
       "      <th>entity</th>\n",
       "      <th></th>\n",
       "      <th></th>\n",
       "      <th></th>\n",
       "      <th></th>\n",
       "      <th></th>\n",
       "      <th></th>\n",
       "      <th></th>\n",
       "      <th></th>\n",
       "    </tr>\n",
       "  </thead>\n",
       "  <tbody>\n",
       "    <tr>\n",
       "      <th>7795</th>\n",
       "      <td>484,652.0000</td>\n",
       "      <td>431,603.0000</td>\n",
       "      <td>245,065.0000</td>\n",
       "      <td>nan</td>\n",
       "      <td>nan</td>\n",
       "      <td>nan</td>\n",
       "      <td>nan</td>\n",
       "      <td>nan</td>\n",
       "    </tr>\n",
       "    <tr>\n",
       "      <th>43789</th>\n",
       "      <td>5.0000</td>\n",
       "      <td>nan</td>\n",
       "      <td>nan</td>\n",
       "      <td>nan</td>\n",
       "      <td>nan</td>\n",
       "      <td>nan</td>\n",
       "      <td>nan</td>\n",
       "      <td>nan</td>\n",
       "    </tr>\n",
       "    <tr>\n",
       "      <th>49784</th>\n",
       "      <td>5.0000</td>\n",
       "      <td>nan</td>\n",
       "      <td>nan</td>\n",
       "      <td>nan</td>\n",
       "      <td>nan</td>\n",
       "      <td>nan</td>\n",
       "      <td>nan</td>\n",
       "      <td>nan</td>\n",
       "    </tr>\n",
       "    <tr>\n",
       "      <th>70282</th>\n",
       "      <td>5.0000</td>\n",
       "      <td>nan</td>\n",
       "      <td>nan</td>\n",
       "      <td>nan</td>\n",
       "      <td>nan</td>\n",
       "      <td>nan</td>\n",
       "      <td>nan</td>\n",
       "      <td>nan</td>\n",
       "    </tr>\n",
       "    <tr>\n",
       "      <th>89050</th>\n",
       "      <td>5.0000</td>\n",
       "      <td>nan</td>\n",
       "      <td>nan</td>\n",
       "      <td>nan</td>\n",
       "      <td>nan</td>\n",
       "      <td>nan</td>\n",
       "      <td>nan</td>\n",
       "      <td>nan</td>\n",
       "    </tr>\n",
       "    <tr>\n",
       "      <th>...</th>\n",
       "      <td>...</td>\n",
       "      <td>...</td>\n",
       "      <td>...</td>\n",
       "      <td>...</td>\n",
       "      <td>...</td>\n",
       "      <td>...</td>\n",
       "      <td>...</td>\n",
       "      <td>...</td>\n",
       "    </tr>\n",
       "    <tr>\n",
       "      <th>97968349</th>\n",
       "      <td>452,237.0000</td>\n",
       "      <td>nan</td>\n",
       "      <td>nan</td>\n",
       "      <td>nan</td>\n",
       "      <td>nan</td>\n",
       "      <td>nan</td>\n",
       "      <td>nan</td>\n",
       "      <td>nan</td>\n",
       "    </tr>\n",
       "    <tr>\n",
       "      <th>97974214</th>\n",
       "      <td>452,237.0000</td>\n",
       "      <td>nan</td>\n",
       "      <td>nan</td>\n",
       "      <td>nan</td>\n",
       "      <td>nan</td>\n",
       "      <td>nan</td>\n",
       "      <td>nan</td>\n",
       "      <td>nan</td>\n",
       "    </tr>\n",
       "    <tr>\n",
       "      <th>97997414</th>\n",
       "      <td>452,237.0000</td>\n",
       "      <td>nan</td>\n",
       "      <td>nan</td>\n",
       "      <td>nan</td>\n",
       "      <td>nan</td>\n",
       "      <td>nan</td>\n",
       "      <td>nan</td>\n",
       "      <td>nan</td>\n",
       "    </tr>\n",
       "    <tr>\n",
       "      <th>98033866</th>\n",
       "      <td>452,237.0000</td>\n",
       "      <td>nan</td>\n",
       "      <td>nan</td>\n",
       "      <td>nan</td>\n",
       "      <td>nan</td>\n",
       "      <td>nan</td>\n",
       "      <td>nan</td>\n",
       "      <td>nan</td>\n",
       "    </tr>\n",
       "    <tr>\n",
       "      <th>98525412</th>\n",
       "      <td>5.0000</td>\n",
       "      <td>nan</td>\n",
       "      <td>nan</td>\n",
       "      <td>nan</td>\n",
       "      <td>nan</td>\n",
       "      <td>nan</td>\n",
       "      <td>nan</td>\n",
       "      <td>nan</td>\n",
       "    </tr>\n",
       "  </tbody>\n",
       "</table>\n",
       "<p>1000 rows × 8 columns</p>\n",
       "</div>"
      ],
      "text/plain": [
       "                    0            1            2   3   4   5   6   7\n",
       "entity                                                             \n",
       "7795     484,652.0000 431,603.0000 245,065.0000 nan nan nan nan nan\n",
       "43789          5.0000          nan          nan nan nan nan nan nan\n",
       "49784          5.0000          nan          nan nan nan nan nan nan\n",
       "70282          5.0000          nan          nan nan nan nan nan nan\n",
       "89050          5.0000          nan          nan nan nan nan nan nan\n",
       "...               ...          ...          ...  ..  ..  ..  ..  ..\n",
       "97968349 452,237.0000          nan          nan nan nan nan nan nan\n",
       "97974214 452,237.0000          nan          nan nan nan nan nan nan\n",
       "97997414 452,237.0000          nan          nan nan nan nan nan nan\n",
       "98033866 452,237.0000          nan          nan nan nan nan nan nan\n",
       "98525412       5.0000          nan          nan nan nan nan nan nan\n",
       "\n",
       "[1000 rows x 8 columns]"
      ]
     },
     "execution_count": 8,
     "metadata": {},
     "output_type": "execute_result"
    }
   ],
   "source": [
    "true_type_10 = true_type_10.groupby('entity')['true_type'].unique().apply(pd.Series)\n",
    "true_type_10"
   ]
  },
  {
   "cell_type": "code",
   "execution_count": 9,
   "metadata": {},
   "outputs": [
    {
     "data": {
      "text/html": [
       "<div>\n",
       "<style scoped>\n",
       "    .dataframe tbody tr th:only-of-type {\n",
       "        vertical-align: middle;\n",
       "    }\n",
       "\n",
       "    .dataframe tbody tr th {\n",
       "        vertical-align: top;\n",
       "    }\n",
       "\n",
       "    .dataframe thead th {\n",
       "        text-align: right;\n",
       "    }\n",
       "</style>\n",
       "<table border=\"1\" class=\"dataframe\">\n",
       "  <thead>\n",
       "    <tr style=\"text-align: right;\">\n",
       "      <th></th>\n",
       "      <th>0</th>\n",
       "      <th>1</th>\n",
       "      <th>2</th>\n",
       "      <th>3</th>\n",
       "    </tr>\n",
       "    <tr>\n",
       "      <th>entity</th>\n",
       "      <th></th>\n",
       "      <th></th>\n",
       "      <th></th>\n",
       "      <th></th>\n",
       "    </tr>\n",
       "  </thead>\n",
       "  <tbody>\n",
       "    <tr>\n",
       "      <th>8042</th>\n",
       "      <td>3,199,141.0000</td>\n",
       "      <td>1,549,591.0000</td>\n",
       "      <td>nan</td>\n",
       "      <td>nan</td>\n",
       "    </tr>\n",
       "    <tr>\n",
       "      <th>33198</th>\n",
       "      <td>4,162,444.0000</td>\n",
       "      <td>nan</td>\n",
       "      <td>nan</td>\n",
       "      <td>nan</td>\n",
       "    </tr>\n",
       "    <tr>\n",
       "      <th>34786</th>\n",
       "      <td>34,770.0000</td>\n",
       "      <td>1,288,568.0000</td>\n",
       "      <td>nan</td>\n",
       "      <td>nan</td>\n",
       "    </tr>\n",
       "    <tr>\n",
       "      <th>123501</th>\n",
       "      <td>5.0000</td>\n",
       "      <td>nan</td>\n",
       "      <td>nan</td>\n",
       "      <td>nan</td>\n",
       "    </tr>\n",
       "    <tr>\n",
       "      <th>211464</th>\n",
       "      <td>4,830,453.0000</td>\n",
       "      <td>6,881,511.0000</td>\n",
       "      <td>nan</td>\n",
       "      <td>nan</td>\n",
       "    </tr>\n",
       "    <tr>\n",
       "      <th>...</th>\n",
       "      <td>...</td>\n",
       "      <td>...</td>\n",
       "      <td>...</td>\n",
       "      <td>...</td>\n",
       "    </tr>\n",
       "    <tr>\n",
       "      <th>98584153</th>\n",
       "      <td>736,691.0000</td>\n",
       "      <td>nan</td>\n",
       "      <td>nan</td>\n",
       "      <td>nan</td>\n",
       "    </tr>\n",
       "    <tr>\n",
       "      <th>99307642</th>\n",
       "      <td>13,442,814.0000</td>\n",
       "      <td>nan</td>\n",
       "      <td>nan</td>\n",
       "      <td>nan</td>\n",
       "    </tr>\n",
       "    <tr>\n",
       "      <th>99507795</th>\n",
       "      <td>64,063,386.0000</td>\n",
       "      <td>nan</td>\n",
       "      <td>nan</td>\n",
       "      <td>nan</td>\n",
       "    </tr>\n",
       "    <tr>\n",
       "      <th>99510317</th>\n",
       "      <td>5.0000</td>\n",
       "      <td>nan</td>\n",
       "      <td>nan</td>\n",
       "      <td>nan</td>\n",
       "    </tr>\n",
       "    <tr>\n",
       "      <th>99723698</th>\n",
       "      <td>7,604,686.0000</td>\n",
       "      <td>nan</td>\n",
       "      <td>nan</td>\n",
       "      <td>nan</td>\n",
       "    </tr>\n",
       "  </tbody>\n",
       "</table>\n",
       "<p>1000 rows × 4 columns</p>\n",
       "</div>"
      ],
      "text/plain": [
       "                       0              1   2   3\n",
       "entity                                         \n",
       "8042      3,199,141.0000 1,549,591.0000 nan nan\n",
       "33198     4,162,444.0000            nan nan nan\n",
       "34786        34,770.0000 1,288,568.0000 nan nan\n",
       "123501            5.0000            nan nan nan\n",
       "211464    4,830,453.0000 6,881,511.0000 nan nan\n",
       "...                  ...            ...  ..  ..\n",
       "98584153    736,691.0000            nan nan nan\n",
       "99307642 13,442,814.0000            nan nan nan\n",
       "99507795 64,063,386.0000            nan nan nan\n",
       "99510317          5.0000            nan nan nan\n",
       "99723698  7,604,686.0000            nan nan nan\n",
       "\n",
       "[1000 rows x 4 columns]"
      ]
     },
     "execution_count": 9,
     "metadata": {},
     "output_type": "execute_result"
    }
   ],
   "source": [
    "true_type = true_type.groupby('entity')['true_type'].unique().apply(pd.Series)\n",
    "true_type"
   ]
  },
  {
   "cell_type": "code",
   "execution_count": 10,
   "metadata": {},
   "outputs": [],
   "source": [
    "def get_avg_precision(entity_df, validation_df, n):\n",
    "    \"\"\"Gets the average precision.\n",
    "\n",
    "    Keyword arguments:\n",
    "    entity_df: Enter an scored entity to super entity dataframe\n",
    "    validation_df: Enter the true entity to super entity dataframe\n",
    "    n: Enter the number of super entity suggestions you are considering\n",
    "    \"\"\"\n",
    "\n",
    "    precision_dict = {}\n",
    "    for entity in entity_df.iterrows():\n",
    "        ent_index = entity[0]\n",
    "        ent_list = list(entity[1].values)\n",
    "        precision = 0\n",
    "        count = 0\n",
    "        for i in range(n):\n",
    "            if ent_list[i] in validation_df.loc[ent_index].values:\n",
    "                count += 1\n",
    "                precision += count / (i + 1)\n",
    "            else:\n",
    "                pass\n",
    "        if count == 0:\n",
    "            avg_precision = np.nan\n",
    "        else:\n",
    "            avg_precision = precision / count\n",
    "        precision_dict[ent_index] = avg_precision\n",
    "    return precision_dict\n"
   ]
  },
  {
   "cell_type": "markdown",
   "metadata": {},
   "source": [
    "## 10 plus property test dataset"
   ]
  },
  {
   "cell_type": "markdown",
   "metadata": {},
   "source": [
    "### Cosine 10 plus"
   ]
  },
  {
   "cell_type": "code",
   "execution_count": 11,
   "metadata": {},
   "outputs": [],
   "source": [
    "avgp_cosine_10 = pd.Series(get_avg_precision(cosine_10plus, true_type_10, 10), name='avg_p').to_frame()"
   ]
  },
  {
   "cell_type": "code",
   "execution_count": 12,
   "metadata": {},
   "outputs": [
    {
     "data": {
      "text/plain": [
       "avg_p   0.3048\n",
       "dtype: float64"
      ]
     },
     "execution_count": 12,
     "metadata": {},
     "output_type": "execute_result"
    }
   ],
   "source": [
    "avgp_cosine_10.mean()"
   ]
  },
  {
   "cell_type": "code",
   "execution_count": 13,
   "metadata": {},
   "outputs": [
    {
     "data": {
      "text/plain": [
       "avg_p   0.0808\n",
       "dtype: float64"
      ]
     },
     "execution_count": 13,
     "metadata": {},
     "output_type": "execute_result"
    }
   ],
   "source": [
    "avgp_cosine_10.fillna(0).mean()"
   ]
  },
  {
   "cell_type": "markdown",
   "metadata": {},
   "source": [
    "### Penalized Inner Product 10 plus"
   ]
  },
  {
   "cell_type": "code",
   "execution_count": 14,
   "metadata": {},
   "outputs": [],
   "source": [
    "avgp_pip_10 = pd.Series(get_avg_precision(pen_inner_prod_10plus, true_type_10, 10), name='avg_p').to_frame()"
   ]
  },
  {
   "cell_type": "code",
   "execution_count": 15,
   "metadata": {},
   "outputs": [
    {
     "data": {
      "text/plain": [
       "avg_p   0.2624\n",
       "dtype: float64"
      ]
     },
     "execution_count": 15,
     "metadata": {},
     "output_type": "execute_result"
    }
   ],
   "source": [
    "avgp_pip_10.mean()"
   ]
  },
  {
   "cell_type": "code",
   "execution_count": 16,
   "metadata": {},
   "outputs": [
    {
     "data": {
      "text/plain": [
       "avg_p   0.0903\n",
       "dtype: float64"
      ]
     },
     "execution_count": 16,
     "metadata": {},
     "output_type": "execute_result"
    }
   ],
   "source": [
    "avgp_pip_10.fillna(0).mean()"
   ]
  },
  {
   "cell_type": "markdown",
   "metadata": {},
   "source": [
    "### Cosine w/ weights 10 plus"
   ]
  },
  {
   "cell_type": "code",
   "execution_count": 17,
   "metadata": {},
   "outputs": [],
   "source": [
    "avgp_cosine_wgt_10 = pd.Series(get_avg_precision(cosine_wgt_10plus, true_type_10, 10), name='avg_p').to_frame()"
   ]
  },
  {
   "cell_type": "code",
   "execution_count": 18,
   "metadata": {},
   "outputs": [
    {
     "data": {
      "text/plain": [
       "avg_p   0.9777\n",
       "dtype: float64"
      ]
     },
     "execution_count": 18,
     "metadata": {},
     "output_type": "execute_result"
    }
   ],
   "source": [
    "avgp_cosine_wgt_10.mean()"
   ]
  },
  {
   "cell_type": "code",
   "execution_count": 19,
   "metadata": {},
   "outputs": [
    {
     "data": {
      "text/plain": [
       "avg_p   0.9572\n",
       "dtype: float64"
      ]
     },
     "execution_count": 19,
     "metadata": {},
     "output_type": "execute_result"
    }
   ],
   "source": [
    "avgp_cosine_wgt_10.fillna(0).mean()"
   ]
  },
  {
   "cell_type": "markdown",
   "metadata": {},
   "source": [
    "### Inner Product w/ weights 10 plus"
   ]
  },
  {
   "cell_type": "code",
   "execution_count": 20,
   "metadata": {},
   "outputs": [],
   "source": [
    "avgp_ip_wgt_10 = pd.Series(get_avg_precision(innerproduct_wgt_10plus, true_type_10, 10), name='avg_p').to_frame()"
   ]
  },
  {
   "cell_type": "code",
   "execution_count": 21,
   "metadata": {},
   "outputs": [
    {
     "data": {
      "text/plain": [
       "avg_p   0.9714\n",
       "dtype: float64"
      ]
     },
     "execution_count": 21,
     "metadata": {},
     "output_type": "execute_result"
    }
   ],
   "source": [
    "avgp_ip_wgt_10.mean()"
   ]
  },
  {
   "cell_type": "code",
   "execution_count": 22,
   "metadata": {},
   "outputs": [
    {
     "data": {
      "text/plain": [
       "avg_p   0.9510\n",
       "dtype: float64"
      ]
     },
     "execution_count": 22,
     "metadata": {},
     "output_type": "execute_result"
    }
   ],
   "source": [
    "avgp_ip_wgt_10.fillna(0).mean()"
   ]
  },
  {
   "cell_type": "markdown",
   "metadata": {},
   "source": [
    "### Inner Product 10 plus"
   ]
  },
  {
   "cell_type": "code",
   "execution_count": 23,
   "metadata": {},
   "outputs": [],
   "source": [
    "avgp_ip_10 = pd.Series(get_avg_precision(innerproduct_10plus, true_type_10, 10), name='avg_p').to_frame()"
   ]
  },
  {
   "cell_type": "code",
   "execution_count": 24,
   "metadata": {},
   "outputs": [
    {
     "data": {
      "text/plain": [
       "avg_p   0.3230\n",
       "dtype: float64"
      ]
     },
     "execution_count": 24,
     "metadata": {},
     "output_type": "execute_result"
    }
   ],
   "source": [
    "avgp_ip_10.mean()"
   ]
  },
  {
   "cell_type": "code",
   "execution_count": 25,
   "metadata": {},
   "outputs": [
    {
     "data": {
      "text/plain": [
       "avg_p   0.0252\n",
       "dtype: float64"
      ]
     },
     "execution_count": 25,
     "metadata": {},
     "output_type": "execute_result"
    }
   ],
   "source": [
    "avgp_ip_10.fillna(0).mean()"
   ]
  },
  {
   "cell_type": "markdown",
   "metadata": {},
   "source": [
    "### Jaccard 10 plus"
   ]
  },
  {
   "cell_type": "code",
   "execution_count": 26,
   "metadata": {},
   "outputs": [],
   "source": [
    "avgp_jacc_10 = pd.Series(get_avg_precision(jaccard_10plus, true_type_10, 10), name='avg_p').to_frame()"
   ]
  },
  {
   "cell_type": "code",
   "execution_count": 27,
   "metadata": {},
   "outputs": [
    {
     "data": {
      "text/plain": [
       "avg_p   0.6125\n",
       "dtype: float64"
      ]
     },
     "execution_count": 27,
     "metadata": {},
     "output_type": "execute_result"
    }
   ],
   "source": [
    "avgp_jacc_10.mean()"
   ]
  },
  {
   "cell_type": "code",
   "execution_count": 28,
   "metadata": {},
   "outputs": [
    {
     "data": {
      "text/plain": [
       "avg_p   0.0025\n",
       "dtype: float64"
      ]
     },
     "execution_count": 28,
     "metadata": {},
     "output_type": "execute_result"
    }
   ],
   "source": [
    "avgp_jacc_10.fillna(0).mean()"
   ]
  },
  {
   "cell_type": "markdown",
   "metadata": {},
   "source": [
    "### Manhattan w/ weights 10 plus"
   ]
  },
  {
   "cell_type": "code",
   "execution_count": 29,
   "metadata": {},
   "outputs": [],
   "source": [
    "avgp_manh_wgt_10 = pd.Series(get_avg_precision(manhattan_wgt_10plus, true_type_10, 10), name='avg_p').to_frame()"
   ]
  },
  {
   "cell_type": "code",
   "execution_count": 30,
   "metadata": {},
   "outputs": [
    {
     "data": {
      "text/plain": [
       "avg_p   nan\n",
       "dtype: float64"
      ]
     },
     "execution_count": 30,
     "metadata": {},
     "output_type": "execute_result"
    }
   ],
   "source": [
    "avgp_manh_wgt_10.mean()"
   ]
  },
  {
   "cell_type": "code",
   "execution_count": 31,
   "metadata": {},
   "outputs": [
    {
     "data": {
      "text/plain": [
       "avg_p   0.0000\n",
       "dtype: float64"
      ]
     },
     "execution_count": 31,
     "metadata": {},
     "output_type": "execute_result"
    }
   ],
   "source": [
    "avgp_manh_wgt_10.fillna(0).mean()"
   ]
  },
  {
   "cell_type": "markdown",
   "metadata": {},
   "source": [
    "### Manhattan 10 plus"
   ]
  },
  {
   "cell_type": "code",
   "execution_count": 32,
   "metadata": {},
   "outputs": [],
   "source": [
    "avgp_manh_10 = pd.Series(get_avg_precision(manhattan_10plus, true_type_10, 10), name='avg_p').to_frame()"
   ]
  },
  {
   "cell_type": "code",
   "execution_count": 33,
   "metadata": {},
   "outputs": [
    {
     "data": {
      "text/plain": [
       "avg_p   nan\n",
       "dtype: float64"
      ]
     },
     "execution_count": 33,
     "metadata": {},
     "output_type": "execute_result"
    }
   ],
   "source": [
    "avgp_manh_10.mean()"
   ]
  },
  {
   "cell_type": "code",
   "execution_count": 34,
   "metadata": {},
   "outputs": [
    {
     "data": {
      "text/plain": [
       "avg_p   0.0000\n",
       "dtype: float64"
      ]
     },
     "execution_count": 34,
     "metadata": {},
     "output_type": "execute_result"
    }
   ],
   "source": [
    "avgp_manh_10.fillna(0).mean()"
   ]
  },
  {
   "cell_type": "markdown",
   "metadata": {},
   "source": [
    "### Jaccard w/ weights 10 plus"
   ]
  },
  {
   "cell_type": "code",
   "execution_count": 35,
   "metadata": {},
   "outputs": [],
   "source": [
    "avgp_jacc_wgt_10 = pd.Series(get_avg_precision(jaccard_wgt_10plus, true_type_10, 10), name='avg_p').to_frame()"
   ]
  },
  {
   "cell_type": "code",
   "execution_count": 36,
   "metadata": {},
   "outputs": [
    {
     "data": {
      "text/plain": [
       "avg_p   0.4986\n",
       "dtype: float64"
      ]
     },
     "execution_count": 36,
     "metadata": {},
     "output_type": "execute_result"
    }
   ],
   "source": [
    "avgp_jacc_wgt_10.mean()"
   ]
  },
  {
   "cell_type": "code",
   "execution_count": 37,
   "metadata": {},
   "outputs": [
    {
     "data": {
      "text/plain": [
       "avg_p   0.0199\n",
       "dtype: float64"
      ]
     },
     "execution_count": 37,
     "metadata": {},
     "output_type": "execute_result"
    }
   ],
   "source": [
    "avgp_jacc_wgt_10.fillna(0).mean()"
   ]
  },
  {
   "cell_type": "markdown",
   "metadata": {},
   "source": [
    "### Penalized Inner Product w/ weights 10 plus"
   ]
  },
  {
   "cell_type": "code",
   "execution_count": 38,
   "metadata": {},
   "outputs": [],
   "source": [
    "avgp_pip_wgt_10 = pd.Series(get_avg_precision(pen_inner_prod_wgt_10plus, true_type_10, 10), name='avg_p').to_frame()"
   ]
  },
  {
   "cell_type": "code",
   "execution_count": 39,
   "metadata": {},
   "outputs": [
    {
     "data": {
      "text/plain": [
       "avg_p   0.9678\n",
       "dtype: float64"
      ]
     },
     "execution_count": 39,
     "metadata": {},
     "output_type": "execute_result"
    }
   ],
   "source": [
    "avgp_pip_wgt_10.mean()"
   ]
  },
  {
   "cell_type": "code",
   "execution_count": 40,
   "metadata": {},
   "outputs": [
    {
     "data": {
      "text/plain": [
       "avg_p   0.9455\n",
       "dtype: float64"
      ]
     },
     "execution_count": 40,
     "metadata": {},
     "output_type": "execute_result"
    }
   ],
   "source": [
    "avgp_pip_wgt_10.fillna(0).mean()"
   ]
  },
  {
   "cell_type": "code",
   "execution_count": 41,
   "metadata": {},
   "outputs": [
    {
     "data": {
      "text/plain": [
       "0.9677917499309524"
      ]
     },
     "execution_count": 41,
     "metadata": {},
     "output_type": "execute_result"
    }
   ],
   "source": [
    "avgp_pip_wgt_10.mean()[0]"
   ]
  },
  {
   "cell_type": "markdown",
   "metadata": {},
   "source": [
    "### Overall Scores"
   ]
  },
  {
   "cell_type": "code",
   "execution_count": 42,
   "metadata": {},
   "outputs": [
    {
     "data": {
      "text/html": [
       "<div>\n",
       "<style scoped>\n",
       "    .dataframe tbody tr th:only-of-type {\n",
       "        vertical-align: middle;\n",
       "    }\n",
       "\n",
       "    .dataframe tbody tr th {\n",
       "        vertical-align: top;\n",
       "    }\n",
       "\n",
       "    .dataframe thead th {\n",
       "        text-align: right;\n",
       "    }\n",
       "</style>\n",
       "<table border=\"1\" class=\"dataframe\">\n",
       "  <thead>\n",
       "    <tr style=\"text-align: right;\">\n",
       "      <th></th>\n",
       "      <th>MAP1</th>\n",
       "      <th>MAP2</th>\n",
       "    </tr>\n",
       "    <tr>\n",
       "      <th>scoring</th>\n",
       "      <th></th>\n",
       "      <th></th>\n",
       "    </tr>\n",
       "  </thead>\n",
       "  <tbody>\n",
       "    <tr>\n",
       "      <th>cosine</th>\n",
       "      <td>0.30483827493261484</td>\n",
       "      <td>0.08078214285714293</td>\n",
       "    </tr>\n",
       "    <tr>\n",
       "      <th>pen_inner_prod</th>\n",
       "      <td>0.2623731081579919</td>\n",
       "      <td>0.09025634920634923</td>\n",
       "    </tr>\n",
       "    <tr>\n",
       "      <th>cosine_wgt</th>\n",
       "      <td>0.9777457561165434</td>\n",
       "      <td>0.9572130952380958</td>\n",
       "    </tr>\n",
       "    <tr>\n",
       "      <th>innerprod_wgt</th>\n",
       "      <td>0.9713933070674647</td>\n",
       "      <td>0.9509940476190479</td>\n",
       "    </tr>\n",
       "    <tr>\n",
       "      <th>innerproduct</th>\n",
       "      <td>0.3230311355311352</td>\n",
       "      <td>0.025196428571428547</td>\n",
       "    </tr>\n",
       "    <tr>\n",
       "      <th>jaccard</th>\n",
       "      <td>0.6125</td>\n",
       "      <td>0.0024500000000000004</td>\n",
       "    </tr>\n",
       "    <tr>\n",
       "      <th>manhattan_wgt</th>\n",
       "      <td>nan</td>\n",
       "      <td>0.0</td>\n",
       "    </tr>\n",
       "    <tr>\n",
       "      <th>manhattan</th>\n",
       "      <td>nan</td>\n",
       "      <td>0.0</td>\n",
       "    </tr>\n",
       "    <tr>\n",
       "      <th>jaccard_wgt</th>\n",
       "      <td>0.498640873015873</td>\n",
       "      <td>0.01994563492063492</td>\n",
       "    </tr>\n",
       "    <tr>\n",
       "      <th>pen_inner_prod_wgt</th>\n",
       "      <td>0.9677917499309524</td>\n",
       "      <td>0.9455325396825405</td>\n",
       "    </tr>\n",
       "  </tbody>\n",
       "</table>\n",
       "</div>"
      ],
      "text/plain": [
       "                                   MAP1                   MAP2\n",
       "scoring                                                       \n",
       "cosine              0.30483827493261484    0.08078214285714293\n",
       "pen_inner_prod       0.2623731081579919    0.09025634920634923\n",
       "cosine_wgt           0.9777457561165434     0.9572130952380958\n",
       "innerprod_wgt        0.9713933070674647     0.9509940476190479\n",
       "innerproduct         0.3230311355311352   0.025196428571428547\n",
       "jaccard                          0.6125  0.0024500000000000004\n",
       "manhattan_wgt                       nan                    0.0\n",
       "manhattan                           nan                    0.0\n",
       "jaccard_wgt           0.498640873015873    0.01994563492063492\n",
       "pen_inner_prod_wgt   0.9677917499309524     0.9455325396825405"
      ]
     },
     "execution_count": 42,
     "metadata": {},
     "output_type": "execute_result"
    }
   ],
   "source": [
    "pd.DataFrame(np.array(['cosine', avgp_cosine_10.mean()[0], avgp_cosine_10.fillna(0).mean()[0],\n",
    "                       'pen_inner_prod', avgp_pip_10.mean()[0], avgp_pip_10.fillna(0).mean()[0],\n",
    "                       'cosine_wgt', avgp_cosine_wgt_10.mean()[0], avgp_cosine_wgt_10.fillna(0).mean()[0],\n",
    "                       'innerprod_wgt', avgp_ip_wgt_10.mean()[0], avgp_ip_wgt_10.fillna(0).mean()[0],\n",
    "                       'innerproduct', avgp_ip_10.mean()[0], avgp_ip_10.fillna(0).mean()[0],\n",
    "                       'jaccard', avgp_jacc_10.mean()[0], avgp_jacc_10.fillna(0).mean()[0],\n",
    "                       'manhattan_wgt', avgp_manh_wgt_10.mean()[0], avgp_manh_wgt_10.fillna(0).mean()[0],\n",
    "                       'manhattan', avgp_manh_10.mean()[0], avgp_manh_10.fillna(0).mean()[0],          \n",
    "                       'jaccard_wgt', avgp_jacc_wgt_10.mean()[0], avgp_jacc_wgt_10.fillna(0).mean()[0],\n",
    "                       'pen_inner_prod_wgt', avgp_pip_wgt_10.mean()[0], avgp_pip_wgt_10.fillna(0).mean()[0]\n",
    "                      ]).reshape(10,3), columns=['scoring','MAP1','MAP2']).set_index('scoring')"
   ]
  },
  {
   "cell_type": "markdown",
   "metadata": {},
   "source": [
    "## Any property count test dataset"
   ]
  },
  {
   "cell_type": "markdown",
   "metadata": {},
   "source": [
    "### Cosine"
   ]
  },
  {
   "cell_type": "code",
   "execution_count": 43,
   "metadata": {},
   "outputs": [],
   "source": [
    "avgp_cosine = pd.Series(get_avg_precision(cosine, true_type, 10), name='avg_p').to_frame()"
   ]
  },
  {
   "cell_type": "code",
   "execution_count": 44,
   "metadata": {},
   "outputs": [
    {
     "data": {
      "text/plain": [
       "avg_p   0.4566\n",
       "dtype: float64"
      ]
     },
     "execution_count": 44,
     "metadata": {},
     "output_type": "execute_result"
    }
   ],
   "source": [
    "avgp_cosine.mean()"
   ]
  },
  {
   "cell_type": "code",
   "execution_count": 45,
   "metadata": {},
   "outputs": [
    {
     "data": {
      "text/plain": [
       "avg_p   0.0644\n",
       "dtype: float64"
      ]
     },
     "execution_count": 45,
     "metadata": {},
     "output_type": "execute_result"
    }
   ],
   "source": [
    "avgp_cosine.fillna(0).mean()"
   ]
  },
  {
   "cell_type": "markdown",
   "metadata": {},
   "source": [
    "### Jaccard w/ weights"
   ]
  },
  {
   "cell_type": "code",
   "execution_count": 46,
   "metadata": {},
   "outputs": [],
   "source": [
    "avgp_jacc_wgt = pd.Series(get_avg_precision(jaccard_wgt, true_type, 10), name='avg_p').to_frame()"
   ]
  },
  {
   "cell_type": "code",
   "execution_count": 47,
   "metadata": {},
   "outputs": [
    {
     "data": {
      "text/plain": [
       "avg_p   0.3250\n",
       "dtype: float64"
      ]
     },
     "execution_count": 47,
     "metadata": {},
     "output_type": "execute_result"
    }
   ],
   "source": [
    "avgp_jacc_wgt.mean()"
   ]
  },
  {
   "cell_type": "code",
   "execution_count": 48,
   "metadata": {},
   "outputs": [
    {
     "data": {
      "text/plain": [
       "avg_p   0.0094\n",
       "dtype: float64"
      ]
     },
     "execution_count": 48,
     "metadata": {},
     "output_type": "execute_result"
    }
   ],
   "source": [
    "avgp_jacc_wgt.fillna(0).mean()"
   ]
  },
  {
   "cell_type": "markdown",
   "metadata": {},
   "source": [
    "### Manhattan w/ weights"
   ]
  },
  {
   "cell_type": "code",
   "execution_count": 49,
   "metadata": {},
   "outputs": [],
   "source": [
    "avgp_manh_wgt = pd.Series(get_avg_precision(manhattan_wgt, true_type, 10), name='avg_p').to_frame()"
   ]
  },
  {
   "cell_type": "code",
   "execution_count": 50,
   "metadata": {},
   "outputs": [
    {
     "data": {
      "text/plain": [
       "avg_p   nan\n",
       "dtype: float64"
      ]
     },
     "execution_count": 50,
     "metadata": {},
     "output_type": "execute_result"
    }
   ],
   "source": [
    "avgp_manh_wgt.mean()"
   ]
  },
  {
   "cell_type": "code",
   "execution_count": 51,
   "metadata": {},
   "outputs": [
    {
     "data": {
      "text/plain": [
       "avg_p   0.0000\n",
       "dtype: float64"
      ]
     },
     "execution_count": 51,
     "metadata": {},
     "output_type": "execute_result"
    }
   ],
   "source": [
    "avgp_manh_wgt.fillna(0).mean()"
   ]
  },
  {
   "cell_type": "markdown",
   "metadata": {},
   "source": [
    "### Inner Product w/ weights"
   ]
  },
  {
   "cell_type": "code",
   "execution_count": 52,
   "metadata": {},
   "outputs": [],
   "source": [
    "avgp_ip_wgt = pd.Series(get_avg_precision(innerproduct_wgt, true_type, 10), name='avg_p').to_frame()"
   ]
  },
  {
   "cell_type": "code",
   "execution_count": 53,
   "metadata": {},
   "outputs": [
    {
     "data": {
      "text/plain": [
       "avg_p   0.8305\n",
       "dtype: float64"
      ]
     },
     "execution_count": 53,
     "metadata": {},
     "output_type": "execute_result"
    }
   ],
   "source": [
    "avgp_ip_wgt.mean()"
   ]
  },
  {
   "cell_type": "code",
   "execution_count": 54,
   "metadata": {},
   "outputs": [
    {
     "data": {
      "text/plain": [
       "avg_p   0.7134\n",
       "dtype: float64"
      ]
     },
     "execution_count": 54,
     "metadata": {},
     "output_type": "execute_result"
    }
   ],
   "source": [
    "avgp_ip_wgt.fillna(0).mean()"
   ]
  },
  {
   "cell_type": "markdown",
   "metadata": {},
   "source": [
    "### Jaccard"
   ]
  },
  {
   "cell_type": "code",
   "execution_count": 55,
   "metadata": {},
   "outputs": [],
   "source": [
    "avgp_jacc = pd.Series(get_avg_precision(jaccard, true_type, 10), name='avg_p').to_frame()"
   ]
  },
  {
   "cell_type": "code",
   "execution_count": 56,
   "metadata": {},
   "outputs": [
    {
     "data": {
      "text/plain": [
       "avg_p   0.3420\n",
       "dtype: float64"
      ]
     },
     "execution_count": 56,
     "metadata": {},
     "output_type": "execute_result"
    }
   ],
   "source": [
    "avgp_jacc.mean()"
   ]
  },
  {
   "cell_type": "code",
   "execution_count": 57,
   "metadata": {},
   "outputs": [
    {
     "data": {
      "text/plain": [
       "avg_p   0.0014\n",
       "dtype: float64"
      ]
     },
     "execution_count": 57,
     "metadata": {},
     "output_type": "execute_result"
    }
   ],
   "source": [
    "avgp_jacc.fillna(0).mean()"
   ]
  },
  {
   "cell_type": "markdown",
   "metadata": {},
   "source": [
    "### Cosine w/ weights"
   ]
  },
  {
   "cell_type": "code",
   "execution_count": 58,
   "metadata": {},
   "outputs": [],
   "source": [
    "avgp_cosine_wgt = pd.Series(get_avg_precision(cosine_wgt, true_type, 10), name='avg_p').to_frame()"
   ]
  },
  {
   "cell_type": "code",
   "execution_count": 59,
   "metadata": {},
   "outputs": [
    {
     "data": {
      "text/plain": [
       "avg_p   0.8675\n",
       "dtype: float64"
      ]
     },
     "execution_count": 59,
     "metadata": {},
     "output_type": "execute_result"
    }
   ],
   "source": [
    "avgp_cosine_wgt.mean()"
   ]
  },
  {
   "cell_type": "code",
   "execution_count": 60,
   "metadata": {},
   "outputs": [
    {
     "data": {
      "text/plain": [
       "avg_p   0.7582\n",
       "dtype: float64"
      ]
     },
     "execution_count": 60,
     "metadata": {},
     "output_type": "execute_result"
    }
   ],
   "source": [
    "avgp_cosine_wgt.fillna(0).mean()"
   ]
  },
  {
   "cell_type": "markdown",
   "metadata": {},
   "source": [
    "### Penalized Inner Product "
   ]
  },
  {
   "cell_type": "code",
   "execution_count": 61,
   "metadata": {},
   "outputs": [],
   "source": [
    "avgp_pip = pd.Series(get_avg_precision(pen_inner_prod, true_type, 10), name='avg_p').to_frame()"
   ]
  },
  {
   "cell_type": "code",
   "execution_count": 62,
   "metadata": {},
   "outputs": [
    {
     "data": {
      "text/plain": [
       "avg_p   0.4051\n",
       "dtype: float64"
      ]
     },
     "execution_count": 62,
     "metadata": {},
     "output_type": "execute_result"
    }
   ],
   "source": [
    "avgp_pip.mean()"
   ]
  },
  {
   "cell_type": "code",
   "execution_count": 63,
   "metadata": {},
   "outputs": [
    {
     "data": {
      "text/plain": [
       "avg_p   0.0523\n",
       "dtype: float64"
      ]
     },
     "execution_count": 63,
     "metadata": {},
     "output_type": "execute_result"
    }
   ],
   "source": [
    "avgp_pip.fillna(0).mean()"
   ]
  },
  {
   "cell_type": "markdown",
   "metadata": {},
   "source": [
    "### Manhattan"
   ]
  },
  {
   "cell_type": "code",
   "execution_count": 64,
   "metadata": {},
   "outputs": [],
   "source": [
    "avgp_manh = pd.Series(get_avg_precision(manhattan, true_type, 10), name='avg_p').to_frame()"
   ]
  },
  {
   "cell_type": "code",
   "execution_count": 65,
   "metadata": {},
   "outputs": [
    {
     "data": {
      "text/plain": [
       "avg_p   nan\n",
       "dtype: float64"
      ]
     },
     "execution_count": 65,
     "metadata": {},
     "output_type": "execute_result"
    }
   ],
   "source": [
    "avgp_manh.mean()"
   ]
  },
  {
   "cell_type": "code",
   "execution_count": 66,
   "metadata": {},
   "outputs": [
    {
     "data": {
      "text/plain": [
       "avg_p   0.0000\n",
       "dtype: float64"
      ]
     },
     "execution_count": 66,
     "metadata": {},
     "output_type": "execute_result"
    }
   ],
   "source": [
    "avgp_manh.fillna(0).mean()"
   ]
  },
  {
   "cell_type": "markdown",
   "metadata": {},
   "source": [
    "### Penalized Inner Product w/ weights"
   ]
  },
  {
   "cell_type": "code",
   "execution_count": 67,
   "metadata": {},
   "outputs": [],
   "source": [
    "avgp_pip_wgt = pd.Series(get_avg_precision(pen_inner_prod_wgt, true_type, 10), name='avg_p').to_frame()"
   ]
  },
  {
   "cell_type": "code",
   "execution_count": 68,
   "metadata": {},
   "outputs": [
    {
     "data": {
      "text/plain": [
       "avg_p   0.8610\n",
       "dtype: float64"
      ]
     },
     "execution_count": 68,
     "metadata": {},
     "output_type": "execute_result"
    }
   ],
   "source": [
    "avgp_pip_wgt.mean()"
   ]
  },
  {
   "cell_type": "code",
   "execution_count": 69,
   "metadata": {},
   "outputs": [
    {
     "data": {
      "text/plain": [
       "avg_p   0.6544\n",
       "dtype: float64"
      ]
     },
     "execution_count": 69,
     "metadata": {},
     "output_type": "execute_result"
    }
   ],
   "source": [
    "avgp_pip_wgt.fillna(0).mean()"
   ]
  },
  {
   "cell_type": "markdown",
   "metadata": {},
   "source": [
    "### Inner Product"
   ]
  },
  {
   "cell_type": "code",
   "execution_count": 70,
   "metadata": {},
   "outputs": [],
   "source": [
    "avgp_ip = pd.Series(get_avg_precision(innerproduct, true_type, 10), name='avg_p').to_frame()"
   ]
  },
  {
   "cell_type": "code",
   "execution_count": 71,
   "metadata": {},
   "outputs": [
    {
     "data": {
      "text/plain": [
       "avg_p   0.3007\n",
       "dtype: float64"
      ]
     },
     "execution_count": 71,
     "metadata": {},
     "output_type": "execute_result"
    }
   ],
   "source": [
    "avgp_ip.mean()"
   ]
  },
  {
   "cell_type": "code",
   "execution_count": 72,
   "metadata": {},
   "outputs": [
    {
     "data": {
      "text/plain": [
       "avg_p   0.0168\n",
       "dtype: float64"
      ]
     },
     "execution_count": 72,
     "metadata": {},
     "output_type": "execute_result"
    }
   ],
   "source": [
    "avgp_ip.fillna(0).mean()"
   ]
  },
  {
   "cell_type": "markdown",
   "metadata": {},
   "source": [
    "### Overall Scores"
   ]
  },
  {
   "cell_type": "code",
   "execution_count": 73,
   "metadata": {},
   "outputs": [
    {
     "data": {
      "text/html": [
       "<div>\n",
       "<style scoped>\n",
       "    .dataframe tbody tr th:only-of-type {\n",
       "        vertical-align: middle;\n",
       "    }\n",
       "\n",
       "    .dataframe tbody tr th {\n",
       "        vertical-align: top;\n",
       "    }\n",
       "\n",
       "    .dataframe thead th {\n",
       "        text-align: right;\n",
       "    }\n",
       "</style>\n",
       "<table border=\"1\" class=\"dataframe\">\n",
       "  <thead>\n",
       "    <tr style=\"text-align: right;\">\n",
       "      <th></th>\n",
       "      <th>MAP1</th>\n",
       "      <th>MAP2</th>\n",
       "    </tr>\n",
       "    <tr>\n",
       "      <th>scoring</th>\n",
       "      <th></th>\n",
       "      <th></th>\n",
       "    </tr>\n",
       "  </thead>\n",
       "  <tbody>\n",
       "    <tr>\n",
       "      <th>cosine</th>\n",
       "      <td>0.4566390858944052</td>\n",
       "      <td>0.06438611111111113</td>\n",
       "    </tr>\n",
       "    <tr>\n",
       "      <th>pen_inner_prod</th>\n",
       "      <td>0.40510951150486063</td>\n",
       "      <td>0.05225912698412702</td>\n",
       "    </tr>\n",
       "    <tr>\n",
       "      <th>cosine_wgt</th>\n",
       "      <td>0.8674566851912399</td>\n",
       "      <td>0.7581571428571436</td>\n",
       "    </tr>\n",
       "    <tr>\n",
       "      <th>innerprod_wgt</th>\n",
       "      <td>0.8305056636546748</td>\n",
       "      <td>0.7134043650793657</td>\n",
       "    </tr>\n",
       "    <tr>\n",
       "      <th>innerproduct</th>\n",
       "      <td>0.30069444444444454</td>\n",
       "      <td>0.016838888888888896</td>\n",
       "    </tr>\n",
       "    <tr>\n",
       "      <th>jaccard</th>\n",
       "      <td>0.3419642857142857</td>\n",
       "      <td>0.0013678571428571429</td>\n",
       "    </tr>\n",
       "    <tr>\n",
       "      <th>manhattan_wgt</th>\n",
       "      <td>nan</td>\n",
       "      <td>0.0</td>\n",
       "    </tr>\n",
       "    <tr>\n",
       "      <th>manhattan</th>\n",
       "      <td>nan</td>\n",
       "      <td>0.0</td>\n",
       "    </tr>\n",
       "    <tr>\n",
       "      <th>jaccard_wgt</th>\n",
       "      <td>0.3250136836343731</td>\n",
       "      <td>0.009425396825396821</td>\n",
       "    </tr>\n",
       "    <tr>\n",
       "      <th>pen_inner_prod_wgt</th>\n",
       "      <td>0.8610082497911445</td>\n",
       "      <td>0.6543662698412699</td>\n",
       "    </tr>\n",
       "  </tbody>\n",
       "</table>\n",
       "</div>"
      ],
      "text/plain": [
       "                                   MAP1                   MAP2\n",
       "scoring                                                       \n",
       "cosine               0.4566390858944052    0.06438611111111113\n",
       "pen_inner_prod      0.40510951150486063    0.05225912698412702\n",
       "cosine_wgt           0.8674566851912399     0.7581571428571436\n",
       "innerprod_wgt        0.8305056636546748     0.7134043650793657\n",
       "innerproduct        0.30069444444444454   0.016838888888888896\n",
       "jaccard              0.3419642857142857  0.0013678571428571429\n",
       "manhattan_wgt                       nan                    0.0\n",
       "manhattan                           nan                    0.0\n",
       "jaccard_wgt          0.3250136836343731   0.009425396825396821\n",
       "pen_inner_prod_wgt   0.8610082497911445     0.6543662698412699"
      ]
     },
     "execution_count": 73,
     "metadata": {},
     "output_type": "execute_result"
    }
   ],
   "source": [
    "pd.DataFrame(np.array(['cosine', avgp_cosine.mean()[0], avgp_cosine.fillna(0).mean()[0],\n",
    "                       'pen_inner_prod', avgp_pip.mean()[0], avgp_pip.fillna(0).mean()[0],\n",
    "                       'cosine_wgt', avgp_cosine_wgt.mean()[0], avgp_cosine_wgt.fillna(0).mean()[0],\n",
    "                       'innerprod_wgt', avgp_ip_wgt.mean()[0], avgp_ip_wgt.fillna(0).mean()[0],\n",
    "                       'innerproduct', avgp_ip.mean()[0], avgp_ip.fillna(0).mean()[0],\n",
    "                       'jaccard', avgp_jacc.mean()[0], avgp_jacc.fillna(0).mean()[0],\n",
    "                       'manhattan_wgt', avgp_manh_wgt.mean()[0], avgp_manh_wgt.fillna(0).mean()[0],\n",
    "                       'manhattan', avgp_manh.mean()[0], avgp_manh.fillna(0).mean()[0],          \n",
    "                       'jaccard_wgt', avgp_jacc_wgt.mean()[0], avgp_jacc_wgt.fillna(0).mean()[0],\n",
    "                       'pen_inner_prod_wgt', avgp_pip_wgt.mean()[0], avgp_pip_wgt.fillna(0).mean()[0]\n",
    "                      ]).reshape(10,3), columns=['scoring','MAP1','MAP2']).set_index('scoring')"
   ]
  },
  {
   "cell_type": "markdown",
   "metadata": {},
   "source": [
    "### Plot the Average Precision vs Property Count"
   ]
  },
  {
   "cell_type": "markdown",
   "metadata": {},
   "source": [
    "#### Import data"
   ]
  },
  {
   "cell_type": "code",
   "execution_count": 74,
   "metadata": {},
   "outputs": [],
   "source": [
    "gav_dir = '/sfs/lustre/bahamut/scratch/gtw4vx/'\n",
    "os.chdir(gav_dir)"
   ]
  },
  {
   "cell_type": "code",
   "execution_count": 75,
   "metadata": {},
   "outputs": [
    {
     "data": {
      "text/plain": [
       "['.ipynb_checkpoints',\n",
       " 'uva_seal.png',\n",
       " '01. SparkGettingStarted-fin.ipynb',\n",
       " '00. MapReduce Framework-fin.ipynb',\n",
       " 'ent_prop-result.csv',\n",
       " 'Untitled.ipynb',\n",
       " 'archive_wiki_db',\n",
       " 'wikidata_database',\n",
       " '.sfs_old_files',\n",
       " 'Untitled Folder',\n",
       " 'ent10_prop-result.csv']"
      ]
     },
     "execution_count": 75,
     "metadata": {},
     "output_type": "execute_result"
    }
   ],
   "source": [
    "os.listdir()"
   ]
  },
  {
   "cell_type": "code",
   "execution_count": 76,
   "metadata": {},
   "outputs": [],
   "source": [
    "ep_count = pd.read_csv('ent_prop-result.csv').set_index('entity')\n",
    "ep_count_10plus = pd.read_csv('ent10_prop-result.csv').set_index('entity')"
   ]
  },
  {
   "cell_type": "code",
   "execution_count": 77,
   "metadata": {},
   "outputs": [
    {
     "data": {
      "text/html": [
       "<div>\n",
       "<style scoped>\n",
       "    .dataframe tbody tr th:only-of-type {\n",
       "        vertical-align: middle;\n",
       "    }\n",
       "\n",
       "    .dataframe tbody tr th {\n",
       "        vertical-align: top;\n",
       "    }\n",
       "\n",
       "    .dataframe thead th {\n",
       "        text-align: right;\n",
       "    }\n",
       "</style>\n",
       "<table border=\"1\" class=\"dataframe\">\n",
       "  <thead>\n",
       "    <tr style=\"text-align: right;\">\n",
       "      <th></th>\n",
       "      <th>count</th>\n",
       "    </tr>\n",
       "    <tr>\n",
       "      <th>entity</th>\n",
       "      <th></th>\n",
       "    </tr>\n",
       "  </thead>\n",
       "  <tbody>\n",
       "    <tr>\n",
       "      <th>42439714</th>\n",
       "      <td>11</td>\n",
       "    </tr>\n",
       "    <tr>\n",
       "      <th>42743540</th>\n",
       "      <td>3</td>\n",
       "    </tr>\n",
       "    <tr>\n",
       "      <th>45285204</th>\n",
       "      <td>2</td>\n",
       "    </tr>\n",
       "    <tr>\n",
       "      <th>28695729</th>\n",
       "      <td>1</td>\n",
       "    </tr>\n",
       "    <tr>\n",
       "      <th>72729472</th>\n",
       "      <td>2</td>\n",
       "    </tr>\n",
       "  </tbody>\n",
       "</table>\n",
       "</div>"
      ],
      "text/plain": [
       "          count\n",
       "entity         \n",
       "42439714     11\n",
       "42743540      3\n",
       "45285204      2\n",
       "28695729      1\n",
       "72729472      2"
      ]
     },
     "execution_count": 77,
     "metadata": {},
     "output_type": "execute_result"
    }
   ],
   "source": [
    "ep_count.head()"
   ]
  },
  {
   "cell_type": "code",
   "execution_count": 78,
   "metadata": {},
   "outputs": [
    {
     "data": {
      "text/html": [
       "<div>\n",
       "<style scoped>\n",
       "    .dataframe tbody tr th:only-of-type {\n",
       "        vertical-align: middle;\n",
       "    }\n",
       "\n",
       "    .dataframe tbody tr th {\n",
       "        vertical-align: top;\n",
       "    }\n",
       "\n",
       "    .dataframe thead th {\n",
       "        text-align: right;\n",
       "    }\n",
       "</style>\n",
       "<table border=\"1\" class=\"dataframe\">\n",
       "  <thead>\n",
       "    <tr style=\"text-align: right;\">\n",
       "      <th></th>\n",
       "      <th>count</th>\n",
       "    </tr>\n",
       "    <tr>\n",
       "      <th>entity</th>\n",
       "      <th></th>\n",
       "    </tr>\n",
       "  </thead>\n",
       "  <tbody>\n",
       "    <tr>\n",
       "      <th>2723552</th>\n",
       "      <td>22</td>\n",
       "    </tr>\n",
       "    <tr>\n",
       "      <th>4221945</th>\n",
       "      <td>10</td>\n",
       "    </tr>\n",
       "    <tr>\n",
       "      <th>37144419</th>\n",
       "      <td>23</td>\n",
       "    </tr>\n",
       "    <tr>\n",
       "      <th>53638750</th>\n",
       "      <td>16</td>\n",
       "    </tr>\n",
       "    <tr>\n",
       "      <th>34107551</th>\n",
       "      <td>26</td>\n",
       "    </tr>\n",
       "  </tbody>\n",
       "</table>\n",
       "</div>"
      ],
      "text/plain": [
       "          count\n",
       "entity         \n",
       "2723552      22\n",
       "4221945      10\n",
       "37144419     23\n",
       "53638750     16\n",
       "34107551     26"
      ]
     },
     "execution_count": 78,
     "metadata": {},
     "output_type": "execute_result"
    }
   ],
   "source": [
    "ep_count_10plus.head()"
   ]
  },
  {
   "cell_type": "markdown",
   "metadata": {},
   "source": [
    "## 10 plus property test dataset"
   ]
  },
  {
   "cell_type": "markdown",
   "metadata": {},
   "source": [
    "### Cosine 10 plus"
   ]
  },
  {
   "cell_type": "code",
   "execution_count": 79,
   "metadata": {},
   "outputs": [],
   "source": [
    "cosine10_meanp = avgp_cosine_10.fillna(0).join(ep_count_10plus).groupby('count')['avg_p'].mean()"
   ]
  },
  {
   "cell_type": "code",
   "execution_count": 80,
   "metadata": {},
   "outputs": [
    {
     "data": {
      "image/png": "[encoded data removed]",
      "text/plain": [
       "<Figure size 1800x720 with 1 Axes>"
      ]
     },
     "metadata": {
      "needs_background": "light"
     },
     "output_type": "display_data"
    }
   ],
   "source": [
    "plt.figure(figsize=(25,10))\n",
    "cosine10_meanp.plot.bar('index', rot=0, fontsize=8, ylim=(0,1))\n",
    "plt.xlabel(\"Property Count\", fontsize=20)\n",
    "plt.ylabel(\"Mean Average Precision\", fontsize=20);"
   ]
  },
  {
   "cell_type": "markdown",
   "metadata": {},
   "source": [
    "### Penalized Inner Product 10 plus"
   ]
  },
  {
   "cell_type": "code",
   "execution_count": 81,
   "metadata": {},
   "outputs": [],
   "source": [
    "pip10_meanp = avgp_pip_10.fillna(0).join(ep_count_10plus).groupby('count')['avg_p'].mean()"
   ]
  },
  {
   "cell_type": "code",
   "execution_count": 82,
   "metadata": {},
   "outputs": [
    {
     "data": {
      "image/png": "[encoded data removed]",
      "text/plain": [
       "<Figure size 1800x720 with 1 Axes>"
      ]
     },
     "metadata": {
      "needs_background": "light"
     },
     "output_type": "display_data"
    }
   ],
   "source": [
    "plt.figure(figsize=(25,10))\n",
    "pip10_meanp.plot.bar('index', rot=0, fontsize=8, ylim=(0,1))\n",
    "plt.xlabel(\"Property Count\", fontsize=20)\n",
    "plt.ylabel(\"Mean Average Precision\", fontsize=20);"
   ]
  },
  {
   "cell_type": "markdown",
   "metadata": {},
   "source": [
    "### Cosine w/ weights 10 plus"
   ]
  },
  {
   "cell_type": "code",
   "execution_count": 83,
   "metadata": {},
   "outputs": [],
   "source": [
    "cosine_wgt10_meanp = avgp_cosine_wgt_10.fillna(0).join(ep_count_10plus).groupby('count')['avg_p'].mean()"
   ]
  },
  {
   "cell_type": "code",
   "execution_count": 84,
   "metadata": {},
   "outputs": [
    {
     "data": {
      "image/png": "[encoded data removed]",
      "text/plain": [
       "<Figure size 1800x720 with 1 Axes>"
      ]
     },
     "metadata": {
      "needs_background": "light"
     },
     "output_type": "display_data"
    }
   ],
   "source": [
    "plt.figure(figsize=(25,10))\n",
    "cosine_wgt10_meanp.plot.bar('index', rot=0, fontsize=8, ylim=(0,1))\n",
    "plt.xlabel(\"Property Count\", fontsize=20)\n",
    "plt.ylabel(\"Mean Average Precision\", fontsize=20);"
   ]
  },
  {
   "cell_type": "markdown",
   "metadata": {},
   "source": [
    "### Inner Product w/ weights 10 plus"
   ]
  },
  {
   "cell_type": "code",
   "execution_count": 85,
   "metadata": {},
   "outputs": [],
   "source": [
    "ip_wgt10_meanp = avgp_ip_wgt_10.fillna(0).join(ep_count_10plus).groupby('count')['avg_p'].mean()"
   ]
  },
  {
   "cell_type": "code",
   "execution_count": 86,
   "metadata": {},
   "outputs": [
    {
     "data": {
      "image/png": "[encoded data removed]",
      "text/plain": [
       "<Figure size 1800x720 with 1 Axes>"
      ]
     },
     "metadata": {
      "needs_background": "light"
     },
     "output_type": "display_data"
    }
   ],
   "source": [
    "plt.figure(figsize=(25,10))\n",
    "ip_wgt10_meanp.plot.bar('index', rot=0, fontsize=8, ylim=(0,1))\n",
    "plt.xlabel(\"Property Count\", fontsize=20)\n",
    "plt.ylabel(\"Mean Average Precision\", fontsize=20);"
   ]
  },
  {
   "cell_type": "markdown",
   "metadata": {},
   "source": [
    "### Inner Product 10 plus"
   ]
  },
  {
   "cell_type": "code",
   "execution_count": 87,
   "metadata": {},
   "outputs": [],
   "source": [
    "ip10_meanp = avgp_ip_10.fillna(0).join(ep_count_10plus).groupby('count')['avg_p'].mean()"
   ]
  },
  {
   "cell_type": "code",
   "execution_count": 88,
   "metadata": {},
   "outputs": [
    {
     "data": {
      "image/png": "[encoded data removed]",
      "text/plain": [
       "<Figure size 1800x720 with 1 Axes>"
      ]
     },
     "metadata": {
      "needs_background": "light"
     },
     "output_type": "display_data"
    }
   ],
   "source": [
    "plt.figure(figsize=(25,10))\n",
    "ip10_meanp.plot.bar('index', rot=0, fontsize=8, ylim=(0,1))\n",
    "plt.xlabel(\"Property Count\", fontsize=20)\n",
    "plt.ylabel(\"Mean Average Precision\", fontsize=20);"
   ]
  },
  {
   "cell_type": "markdown",
   "metadata": {},
   "source": [
    "### Jaccard 10 plus"
   ]
  },
  {
   "cell_type": "code",
   "execution_count": 89,
   "metadata": {},
   "outputs": [],
   "source": [
    "jacc10_meanp = avgp_jacc_10.fillna(0).join(ep_count_10plus).groupby('count')['avg_p'].mean()"
   ]
  },
  {
   "cell_type": "code",
   "execution_count": 90,
   "metadata": {},
   "outputs": [
    {
     "data": {
      "image/png": "[encoded data removed]",
      "text/plain": [
       "<Figure size 1800x720 with 1 Axes>"
      ]
     },
     "metadata": {
      "needs_background": "light"
     },
     "output_type": "display_data"
    }
   ],
   "source": [
    "plt.figure(figsize=(25,10))\n",
    "jacc10_meanp.plot.bar('index', rot=0, fontsize=8, ylim=(0,1))\n",
    "plt.xlabel(\"Property Count\", fontsize=20)\n",
    "plt.ylabel(\"Mean Average Precision\", fontsize=20);"
   ]
  },
  {
   "cell_type": "markdown",
   "metadata": {},
   "source": [
    "### Jaccard w/ weights 10 plus"
   ]
  },
  {
   "cell_type": "code",
   "execution_count": 91,
   "metadata": {},
   "outputs": [],
   "source": [
    "jacc_wgt10_meanp = avgp_jacc_wgt_10.fillna(0).join(ep_count_10plus).groupby('count')['avg_p'].mean()"
   ]
  },
  {
   "cell_type": "code",
   "execution_count": 92,
   "metadata": {},
   "outputs": [
    {
     "data": {
      "image/png": "[encoded data removed]",
      "text/plain": [
       "<Figure size 1800x720 with 1 Axes>"
      ]
     },
     "metadata": {
      "needs_background": "light"
     },
     "output_type": "display_data"
    }
   ],
   "source": [
    "plt.figure(figsize=(25,10))\n",
    "jacc_wgt10_meanp.plot.bar('index', rot=0, fontsize=8, ylim=(0,1))\n",
    "plt.xlabel(\"Property Count\", fontsize=20)\n",
    "plt.ylabel(\"Mean Average Precision\", fontsize=20);"
   ]
  },
  {
   "cell_type": "markdown",
   "metadata": {},
   "source": [
    "### Penalized Inner Product w/ weights 10 plus"
   ]
  },
  {
   "cell_type": "code",
   "execution_count": 93,
   "metadata": {},
   "outputs": [],
   "source": [
    "pip_wgt10_meanp = avgp_pip_wgt_10.fillna(0).join(ep_count_10plus).groupby('count')['avg_p'].mean()"
   ]
  },
  {
   "cell_type": "code",
   "execution_count": 94,
   "metadata": {},
   "outputs": [
    {
     "data": {
      "image/png": "[encoded data removed]",
      "text/plain": [
       "<Figure size 1800x720 with 1 Axes>"
      ]
     },
     "metadata": {
      "needs_background": "light"
     },
     "output_type": "display_data"
    }
   ],
   "source": [
    "plt.figure(figsize=(25,10))\n",
    "pip_wgt10_meanp.plot.bar('index', rot=0, fontsize=8, ylim=(0,1))\n",
    "plt.xlabel(\"Property Count\", fontsize=20)\n",
    "plt.ylabel(\"Mean Average Precision\", fontsize=20);"
   ]
  },
  {
   "cell_type": "markdown",
   "metadata": {},
   "source": [
    "## Any property count test dataset"
   ]
  },
  {
   "cell_type": "markdown",
   "metadata": {},
   "source": [
    "### Cosine"
   ]
  },
  {
   "cell_type": "code",
   "execution_count": 95,
   "metadata": {},
   "outputs": [],
   "source": [
    "cosine_meanp = avgp_cosine.fillna(0).join(ep_count).groupby('count')['avg_p'].mean()"
   ]
  },
  {
   "cell_type": "code",
   "execution_count": 96,
   "metadata": {},
   "outputs": [
    {
     "data": {
      "image/png": "[encoded data removed]",
      "text/plain": [
       "<Figure size 1800x720 with 1 Axes>"
      ]
     },
     "metadata": {
      "needs_background": "light"
     },
     "output_type": "display_data"
    }
   ],
   "source": [
    "plt.figure(figsize=(25,10))\n",
    "cosine_meanp.plot.bar('index', rot=0, fontsize=8, ylim=(0,1))\n",
    "plt.xlabel(\"Property Count\", fontsize=20)\n",
    "plt.ylabel(\"Mean Average Precision\", fontsize=20);"
   ]
  },
  {
   "cell_type": "code",
   "execution_count": 97,
   "metadata": {},
   "outputs": [
    {
     "data": {
      "text/plain": [
       "bin_count\n",
       "1-2   0.0115\n",
       "3-4   0.0604\n",
       "5-6   0.1096\n",
       "7-8   0.2296\n",
       "9+    0.1077\n",
       "Name: avg_p, dtype: float64"
      ]
     },
     "execution_count": 97,
     "metadata": {},
     "output_type": "execute_result"
    }
   ],
   "source": [
    "cosine_join = avgp_cosine.fillna(0).join(ep_count)\n",
    "cosine_join['bin_count'] = pd.cut(cosine_join['count'], bins=[0, 2, 4, 6, 8, float(\"inf\")], labels=[\"1-2\", \"3-4\", \"5-6\", \"7-8\", \"9+\"])\n",
    "cosinejoin_meanp = cosine_join.groupby('bin_count')['avg_p'].mean()\n",
    "cosinejoin_meanp"
   ]
  },
  {
   "cell_type": "code",
   "execution_count": 98,
   "metadata": {},
   "outputs": [
    {
     "data": {
      "image/png": "[encoded data removed]",
      "text/plain": [
       "<Figure size 1800x720 with 1 Axes>"
      ]
     },
     "metadata": {
      "needs_background": "light"
     },
     "output_type": "display_data"
    }
   ],
   "source": [
    "plt.figure(figsize=(25,10))\n",
    "cosinejoin_meanp.plot.bar('index', rot=0, fontsize=13, ylim=(0,1))\n",
    "plt.xlabel(\"Property Count\", fontsize=20)\n",
    "plt.ylabel(\"Mean Average Precision\", fontsize=20);"
   ]
  },
  {
   "cell_type": "markdown",
   "metadata": {},
   "source": [
    "### Jaccard w/ weights"
   ]
  },
  {
   "cell_type": "code",
   "execution_count": 99,
   "metadata": {},
   "outputs": [],
   "source": [
    "jacc_wgt_meanp = avgp_jacc_wgt.fillna(0).join(ep_count).groupby('count')['avg_p'].mean()"
   ]
  },
  {
   "cell_type": "code",
   "execution_count": 100,
   "metadata": {},
   "outputs": [
    {
     "data": {
      "image/png": "[encoded data removed]",
      "text/plain": [
       "<Figure size 1800x720 with 1 Axes>"
      ]
     },
     "metadata": {
      "needs_background": "light"
     },
     "output_type": "display_data"
    }
   ],
   "source": [
    "plt.figure(figsize=(25,10))\n",
    "jacc_wgt_meanp.plot.bar('index', rot=0, fontsize=8, ylim=(0,1))\n",
    "plt.xlabel(\"Property Count\", fontsize=20)\n",
    "plt.ylabel(\"Mean Average Precision\", fontsize=20);"
   ]
  },
  {
   "cell_type": "code",
   "execution_count": 101,
   "metadata": {},
   "outputs": [
    {
     "data": {
      "text/plain": [
       "bin_count\n",
       "1-2   0.0006\n",
       "3-4   0.0063\n",
       "5-6   0.0127\n",
       "7-8   0.0411\n",
       "9+    0.0291\n",
       "Name: avg_p, dtype: float64"
      ]
     },
     "execution_count": 101,
     "metadata": {},
     "output_type": "execute_result"
    }
   ],
   "source": [
    "jacc_wgt_join = avgp_jacc_wgt.fillna(0).join(ep_count)\n",
    "jacc_wgt_join['bin_count'] = pd.cut(jacc_wgt_join['count'], bins=[0, 2, 4, 6, 8, float(\"inf\")], labels=[\"1-2\", \"3-4\", \"5-6\", \"7-8\", \"9+\"])\n",
    "jacc_wgtjoin_meanp = jacc_wgt_join.groupby('bin_count')['avg_p'].mean()\n",
    "jacc_wgtjoin_meanp"
   ]
  },
  {
   "cell_type": "code",
   "execution_count": 102,
   "metadata": {},
   "outputs": [
    {
     "data": {
      "image/png": "[encoded data removed]",
      "text/plain": [
       "<Figure size 1800x720 with 1 Axes>"
      ]
     },
     "metadata": {
      "needs_background": "light"
     },
     "output_type": "display_data"
    }
   ],
   "source": [
    "plt.figure(figsize=(25,10))\n",
    "jacc_wgtjoin_meanp.plot.bar('index', rot=0, fontsize=13, ylim=(0,1))\n",
    "plt.xlabel(\"Property Count\", fontsize=20)\n",
    "plt.ylabel(\"Mean Average Precision\", fontsize=20);"
   ]
  },
  {
   "cell_type": "markdown",
   "metadata": {},
   "source": [
    "### Inner Product w/ weights"
   ]
  },
  {
   "cell_type": "code",
   "execution_count": 103,
   "metadata": {},
   "outputs": [],
   "source": [
    "ip_wgt_meanp = avgp_ip_wgt.fillna(0).join(ep_count).groupby('count')['avg_p'].mean()"
   ]
  },
  {
   "cell_type": "code",
   "execution_count": 104,
   "metadata": {},
   "outputs": [
    {
     "data": {
      "image/png": "[encoded data removed]",
      "text/plain": [
       "<Figure size 1800x720 with 1 Axes>"
      ]
     },
     "metadata": {
      "needs_background": "light"
     },
     "output_type": "display_data"
    }
   ],
   "source": [
    "plt.figure(figsize=(25,10))\n",
    "ip_wgt_meanp.plot.bar('index', rot=0, fontsize=8, ylim=(0,1))\n",
    "plt.xlabel(\"Property Count\", fontsize=20)\n",
    "plt.ylabel(\"Mean Average Precision\", fontsize=20);"
   ]
  },
  {
   "cell_type": "code",
   "execution_count": 105,
   "metadata": {},
   "outputs": [
    {
     "data": {
      "text/plain": [
       "bin_count\n",
       "1-2   0.6340\n",
       "3-4   0.7209\n",
       "5-6   0.6552\n",
       "7-8   0.7726\n",
       "9+    0.9531\n",
       "Name: avg_p, dtype: float64"
      ]
     },
     "execution_count": 105,
     "metadata": {},
     "output_type": "execute_result"
    }
   ],
   "source": [
    "ip_wgt_join = avgp_ip_wgt.fillna(0).join(ep_count)\n",
    "ip_wgt_join['bin_count'] = pd.cut(ip_wgt_join['count'], bins=[0, 2, 4, 6, 8, float(\"inf\")], labels=[\"1-2\", \"3-4\", \"5-6\", \"7-8\", \"9+\"])\n",
    "ip_wgtjoin_meanp = ip_wgt_join.groupby('bin_count')['avg_p'].mean()\n",
    "ip_wgtjoin_meanp"
   ]
  },
  {
   "cell_type": "code",
   "execution_count": 106,
   "metadata": {},
   "outputs": [
    {
     "data": {
      "image/png": "[encoded data removed]",
      "text/plain": [
       "<Figure size 1800x720 with 1 Axes>"
      ]
     },
     "metadata": {
      "needs_background": "light"
     },
     "output_type": "display_data"
    }
   ],
   "source": [
    "plt.figure(figsize=(25,10))\n",
    "ip_wgtjoin_meanp.plot.bar('index', rot=0, fontsize=13, ylim=(0,1))\n",
    "plt.xlabel(\"Property Count\", fontsize=20)\n",
    "plt.ylabel(\"Mean Average Precision\", fontsize=20);"
   ]
  },
  {
   "cell_type": "markdown",
   "metadata": {},
   "source": [
    "### Jaccard"
   ]
  },
  {
   "cell_type": "code",
   "execution_count": 107,
   "metadata": {},
   "outputs": [],
   "source": [
    "jacc_meanp = avgp_jacc.fillna(0).join(ep_count).groupby('count')['avg_p'].mean()"
   ]
  },
  {
   "cell_type": "code",
   "execution_count": 108,
   "metadata": {},
   "outputs": [
    {
     "data": {
      "image/png": "[encoded data removed]",
      "text/plain": [
       "<Figure size 1800x720 with 1 Axes>"
      ]
     },
     "metadata": {
      "needs_background": "light"
     },
     "output_type": "display_data"
    }
   ],
   "source": [
    "plt.figure(figsize=(25,10))\n",
    "jacc_meanp.plot.bar('index', rot=0, fontsize=8, ylim=(0,1))\n",
    "plt.xlabel(\"Property Count\", fontsize=20)\n",
    "plt.ylabel(\"Mean Average Precision\", fontsize=20);"
   ]
  },
  {
   "cell_type": "code",
   "execution_count": 109,
   "metadata": {},
   "outputs": [
    {
     "data": {
      "text/plain": [
       "bin_count\n",
       "1-2   0.0000\n",
       "3-4   0.0000\n",
       "5-6   0.0019\n",
       "7-8   0.0208\n",
       "9+    0.0013\n",
       "Name: avg_p, dtype: float64"
      ]
     },
     "execution_count": 109,
     "metadata": {},
     "output_type": "execute_result"
    }
   ],
   "source": [
    "jacc_join = avgp_jacc.fillna(0).join(ep_count)\n",
    "jacc_join['bin_count'] = pd.cut(jacc_join['count'], bins=[0, 2, 4, 6, 8, float(\"inf\")], labels=[\"1-2\", \"3-4\", \"5-6\", \"7-8\", \"9+\"])\n",
    "jaccjoin_meanp = jacc_join.groupby('bin_count')['avg_p'].mean()\n",
    "jaccjoin_meanp"
   ]
  },
  {
   "cell_type": "code",
   "execution_count": 110,
   "metadata": {},
   "outputs": [
    {
     "data": {
      "image/png": "[encoded data removed]",
      "text/plain": [
       "<Figure size 1800x720 with 1 Axes>"
      ]
     },
     "metadata": {
      "needs_background": "light"
     },
     "output_type": "display_data"
    }
   ],
   "source": [
    "plt.figure(figsize=(25,10))\n",
    "jaccjoin_meanp.plot.bar('index', rot=0, fontsize=13, ylim=(0,1))\n",
    "plt.xlabel(\"Property Count\", fontsize=20)\n",
    "plt.ylabel(\"Mean Average Precision\", fontsize=20);"
   ]
  },
  {
   "cell_type": "markdown",
   "metadata": {},
   "source": [
    "### Cosine w/ weights"
   ]
  },
  {
   "cell_type": "code",
   "execution_count": 111,
   "metadata": {},
   "outputs": [],
   "source": [
    "cosine_wgt_meanp = avgp_cosine_wgt.fillna(0).join(ep_count).groupby('count')['avg_p'].mean()"
   ]
  },
  {
   "cell_type": "code",
   "execution_count": 112,
   "metadata": {},
   "outputs": [
    {
     "data": {
      "image/png": "[encoded data removed]",
      "text/plain": [
       "<Figure size 1800x720 with 1 Axes>"
      ]
     },
     "metadata": {
      "needs_background": "light"
     },
     "output_type": "display_data"
    }
   ],
   "source": [
    "plt.figure(figsize=(25,10))\n",
    "cosine_wgt_meanp.plot.bar('index', rot=0, fontsize=8, ylim=(0,1))\n",
    "plt.xlabel(\"Property Count\", fontsize=20)\n",
    "plt.ylabel(\"Mean Average Precision\", fontsize=20);"
   ]
  },
  {
   "cell_type": "code",
   "execution_count": 113,
   "metadata": {},
   "outputs": [
    {
     "data": {
      "text/plain": [
       "bin_count\n",
       "1-2   0.7114\n",
       "3-4   0.7678\n",
       "5-6   0.6716\n",
       "7-8   0.7564\n",
       "9+    0.9546\n",
       "Name: avg_p, dtype: float64"
      ]
     },
     "execution_count": 113,
     "metadata": {},
     "output_type": "execute_result"
    }
   ],
   "source": [
    "cosine_wgt_join = avgp_cosine_wgt.fillna(0).join(ep_count)\n",
    "cosine_wgt_join['bin_count'] = pd.cut(cosine_wgt_join['count'], bins=[0, 2, 4, 6, 8, float(\"inf\")], labels=[\"1-2\", \"3-4\", \"5-6\", \"7-8\", \"9+\"])\n",
    "cosine_wgtjoin_meanp = cosine_wgt_join.groupby('bin_count')['avg_p'].mean()\n",
    "cosine_wgtjoin_meanp"
   ]
  },
  {
   "cell_type": "code",
   "execution_count": 114,
   "metadata": {},
   "outputs": [
    {
     "data": {
      "image/png": "[encoded data removed]",
      "text/plain": [
       "<Figure size 1800x720 with 1 Axes>"
      ]
     },
     "metadata": {
      "needs_background": "light"
     },
     "output_type": "display_data"
    }
   ],
   "source": [
    "plt.figure(figsize=(25,10))\n",
    "cosine_wgtjoin_meanp.plot.bar('index', rot=0, fontsize=13, ylim=(0,1))\n",
    "plt.xlabel(\"Property Count\", fontsize=20)\n",
    "plt.ylabel(\"Mean Average Precision\", fontsize=20);"
   ]
  },
  {
   "cell_type": "markdown",
   "metadata": {},
   "source": [
    "### Penalized Inner Product "
   ]
  },
  {
   "cell_type": "code",
   "execution_count": 115,
   "metadata": {},
   "outputs": [],
   "source": [
    "pip_meanp = avgp_pip.fillna(0).join(ep_count).groupby('count')['avg_p'].mean()"
   ]
  },
  {
   "cell_type": "code",
   "execution_count": 116,
   "metadata": {},
   "outputs": [
    {
     "data": {
      "image/png": "[encoded data removed]",
      "text/plain": [
       "<Figure size 1800x720 with 1 Axes>"
      ]
     },
     "metadata": {
      "needs_background": "light"
     },
     "output_type": "display_data"
    }
   ],
   "source": [
    "plt.figure(figsize=(25,10))\n",
    "pip_meanp.plot.bar('index', rot=0, fontsize=8, ylim=(0,1))\n",
    "plt.xlabel(\"Property Count\", fontsize=20)\n",
    "plt.ylabel(\"Mean Average Precision\", fontsize=20);"
   ]
  },
  {
   "cell_type": "code",
   "execution_count": 117,
   "metadata": {},
   "outputs": [
    {
     "data": {
      "text/plain": [
       "bin_count\n",
       "1-2   0.0109\n",
       "3-4   0.0380\n",
       "5-6   0.0733\n",
       "7-8   0.1934\n",
       "9+    0.1398\n",
       "Name: avg_p, dtype: float64"
      ]
     },
     "execution_count": 117,
     "metadata": {},
     "output_type": "execute_result"
    }
   ],
   "source": [
    "pip_join = avgp_pip.fillna(0).join(ep_count)\n",
    "pip_join['bin_count'] = pd.cut(pip_join['count'], bins=[0, 2, 4, 6, 8, float(\"inf\")], labels=[\"1-2\", \"3-4\", \"5-6\", \"7-8\", \"9+\"])\n",
    "pipjoin_meanp = pip_join.groupby('bin_count')['avg_p'].mean()\n",
    "pipjoin_meanp"
   ]
  },
  {
   "cell_type": "code",
   "execution_count": 118,
   "metadata": {},
   "outputs": [
    {
     "data": {
      "image/png": "[encoded data removed]",
      "text/plain": [
       "<Figure size 1800x720 with 1 Axes>"
      ]
     },
     "metadata": {
      "needs_background": "light"
     },
     "output_type": "display_data"
    }
   ],
   "source": [
    "plt.figure(figsize=(25,10))\n",
    "pipjoin_meanp.plot.bar('index', rot=0, fontsize=13, ylim=(0,1))\n",
    "plt.xlabel(\"Property Count\", fontsize=20)\n",
    "plt.ylabel(\"Mean Average Precision\", fontsize=20);"
   ]
  },
  {
   "cell_type": "markdown",
   "metadata": {},
   "source": [
    "### Penalized Inner Product w/ weights"
   ]
  },
  {
   "cell_type": "code",
   "execution_count": 119,
   "metadata": {},
   "outputs": [],
   "source": [
    "pip_wgt_meanp = avgp_pip_wgt.fillna(0).join(ep_count).groupby('count')['avg_p'].mean()"
   ]
  },
  {
   "cell_type": "code",
   "execution_count": 120,
   "metadata": {},
   "outputs": [
    {
     "data": {
      "image/png": "[encoded data removed]",
      "text/plain": [
       "<Figure size 1800x720 with 1 Axes>"
      ]
     },
     "metadata": {
      "needs_background": "light"
     },
     "output_type": "display_data"
    }
   ],
   "source": [
    "plt.figure(figsize=(25,10))\n",
    "pip_wgt_meanp.plot.bar('index', rot=0, fontsize=8, ylim=(0,1))\n",
    "plt.xlabel(\"Property Count\", fontsize=20)\n",
    "plt.ylabel(\"Mean Average Precision\", fontsize=20);"
   ]
  },
  {
   "cell_type": "code",
   "execution_count": 121,
   "metadata": {},
   "outputs": [
    {
     "data": {
      "text/plain": [
       "bin_count\n",
       "1-2   0.5575\n",
       "3-4   0.6703\n",
       "5-6   0.5412\n",
       "7-8   0.7527\n",
       "9+    0.9559\n",
       "Name: avg_p, dtype: float64"
      ]
     },
     "execution_count": 121,
     "metadata": {},
     "output_type": "execute_result"
    }
   ],
   "source": [
    "pip_wgt_join = avgp_pip_wgt.fillna(0).join(ep_count)\n",
    "pip_wgt_join['bin_count'] = pd.cut(pip_wgt_join['count'], bins=[0, 2, 4, 6, 8, float(\"inf\")], labels=[\"1-2\", \"3-4\", \"5-6\", \"7-8\", \"9+\"])\n",
    "pip_wgtjoin_meanp = pip_wgt_join.groupby('bin_count')['avg_p'].mean()\n",
    "pip_wgtjoin_meanp"
   ]
  },
  {
   "cell_type": "code",
   "execution_count": 122,
   "metadata": {},
   "outputs": [
    {
     "data": {
      "image/png": "[encoded data removed]",
      "text/plain": [
       "<Figure size 1800x720 with 1 Axes>"
      ]
     },
     "metadata": {
      "needs_background": "light"
     },
     "output_type": "display_data"
    }
   ],
   "source": [
    "plt.figure(figsize=(25,10))\n",
    "pip_wgtjoin_meanp.plot.bar('index', rot=0, fontsize=13, ylim=(0,1))\n",
    "plt.xlabel(\"Property Count\", fontsize=20)\n",
    "plt.ylabel(\"Mean Average Precision\", fontsize=20);"
   ]
  },
  {
   "cell_type": "markdown",
   "metadata": {},
   "source": [
    "### Inner Product"
   ]
  },
  {
   "cell_type": "code",
   "execution_count": 123,
   "metadata": {},
   "outputs": [],
   "source": [
    "ip_meanp = avgp_ip.fillna(0).join(ep_count).groupby('count')['avg_p'].mean()"
   ]
  },
  {
   "cell_type": "code",
   "execution_count": 124,
   "metadata": {},
   "outputs": [
    {
     "data": {
      "image/png": "[encoded data removed]",
      "text/plain": [
       "<Figure size 1800x720 with 1 Axes>"
      ]
     },
     "metadata": {
      "needs_background": "light"
     },
     "output_type": "display_data"
    }
   ],
   "source": [
    "plt.figure(figsize=(25,10))\n",
    "ip_meanp.plot.bar('index', rot=0, fontsize=8, ylim=(0,1))\n",
    "plt.xlabel(\"Property Count\", fontsize=20)\n",
    "plt.ylabel(\"Mean Average Precision\", fontsize=20);"
   ]
  },
  {
   "cell_type": "code",
   "execution_count": 125,
   "metadata": {},
   "outputs": [
    {
     "data": {
      "text/plain": [
       "bin_count\n",
       "1-2   0.0070\n",
       "3-4   0.0127\n",
       "5-6   0.0321\n",
       "7-8   0.0491\n",
       "9+    0.0294\n",
       "Name: avg_p, dtype: float64"
      ]
     },
     "execution_count": 125,
     "metadata": {},
     "output_type": "execute_result"
    }
   ],
   "source": [
    "ip_join = avgp_ip.fillna(0).join(ep_count)\n",
    "ip_join['bin_count'] = pd.cut(ip_join['count'], bins=[0, 2, 4, 6, 8, float(\"inf\")], labels=[\"1-2\", \"3-4\", \"5-6\", \"7-8\", \"9+\"])\n",
    "ipjoin_meanp = ip_join.groupby('bin_count')['avg_p'].mean()\n",
    "ipjoin_meanp"
   ]
  },
  {
   "cell_type": "code",
   "execution_count": 126,
   "metadata": {},
   "outputs": [
    {
     "data": {
      "image/png": "[encoded data removed]",
      "text/plain": [
       "<Figure size 1800x720 with 1 Axes>"
      ]
     },
     "metadata": {
      "needs_background": "light"
     },
     "output_type": "display_data"
    }
   ],
   "source": [
    "plt.figure(figsize=(25,10))\n",
    "ipjoin_meanp.plot.bar('index', rot=0, fontsize=13, ylim=(0,1))\n",
    "plt.xlabel(\"Property Count\", fontsize=20)\n",
    "plt.ylabel(\"Mean Average Precision\", fontsize=20);"
   ]
  }
 ],
 "metadata": {
  "kernelspec": {
   "display_name": "Python 3",
   "language": "python",
   "name": "python3"
  },
  "language_info": {
   "codemirror_mode": {
    "name": "ipython",
    "version": 3
   },
   "file_extension": ".py",
   "mimetype": "text/x-python",
   "name": "python",
   "nbconvert_exporter": "python",
   "pygments_lexer": "ipython3",
   "version": "3.8.6"
  }
 },
 "nbformat": 4,
 "nbformat_minor": 5
}
