{
 "cells": [
  {
   "cell_type": "code",
   "execution_count": 1,
   "metadata": {},
   "outputs": [
    {
     "data": {
      "text/html": [
       "\r\n",
       "<div>\r\n",
       "    <div id='dotnet-interactive-this-cell-237770.Microsoft.DotNet.Interactive.Http.HttpPort' style='display: none'>\r\n",
       "        The below script needs to be able to find the current output cell; this is an easy method to get it.\r\n",
       "    </div>\r\n",
       "    <script type='text/javascript'>\r\n",
       "async function probeAddresses(probingAddresses) {\r\n",
       "    function timeout(ms, promise) {\r\n",
       "        return new Promise(function (resolve, reject) {\r\n",
       "            setTimeout(function () {\r\n",
       "                reject(new Error('timeout'))\r\n",
       "            }, ms)\r\n",
       "            promise.then(resolve, reject)\r\n",
       "        })\r\n",
       "    }\r\n",
       "\r\n",
       "    if (Array.isArray(probingAddresses)) {\r\n",
       "        for (let i = 0; i < probingAddresses.length; i++) {\r\n",
       "\r\n",
       "            let rootUrl = probingAddresses[i];\r\n",
       "\r\n",
       "            if (!rootUrl.endsWith('/')) {\r\n",
       "                rootUrl = `${rootUrl}/`;\r\n",
       "            }\r\n",
       "\r\n",
       "            try {\r\n",
       "                let response = await timeout(1000, fetch(`${rootUrl}discovery`, {\r\n",
       "                    method: 'POST',\r\n",
       "                    cache: 'no-cache',\r\n",
       "                    mode: 'cors',\r\n",
       "                    timeout: 1000,\r\n",
       "                    headers: {\r\n",
       "                        'Content-Type': 'text/plain'\r\n",
       "                    },\r\n",
       "                    body: probingAddresses[i]\r\n",
       "                }));\r\n",
       "\r\n",
       "                if (response.status == 200) {\r\n",
       "                    return rootUrl;\r\n",
       "                }\r\n",
       "            }\r\n",
       "            catch (e) { }\r\n",
       "        }\r\n",
       "    }\r\n",
       "}\r\n",
       "\r\n",
       "function loadDotnetInteractiveApi() {\r\n",
       "    probeAddresses([\"http://10.153.3.75:1027/\", \"http://10.155.194.156:1027/\", \"http://127.0.0.1:1027/\"])\r\n",
       "        .then((root) => {\r\n",
       "        // use probing to find host url and api resources\r\n",
       "        // load interactive helpers and language services\r\n",
       "        let dotnetInteractiveRequire = require.config({\r\n",
       "        context: '237770.Microsoft.DotNet.Interactive.Http.HttpPort',\r\n",
       "                paths:\r\n",
       "            {\r\n",
       "                'dotnet-interactive': `${root}resources`\r\n",
       "                }\r\n",
       "        }) || require;\r\n",
       "\r\n",
       "            window.dotnetInteractiveRequire = dotnetInteractiveRequire;\r\n",
       "\r\n",
       "            window.configureRequireFromExtension = function(extensionName, extensionCacheBuster) {\r\n",
       "                let paths = {};\r\n",
       "                paths[extensionName] = `${root}extensions/${extensionName}/resources/`;\r\n",
       "                \r\n",
       "                let internalRequire = require.config({\r\n",
       "                    context: extensionCacheBuster,\r\n",
       "                    paths: paths,\r\n",
       "                    urlArgs: `cacheBuster=${extensionCacheBuster}`\r\n",
       "                    }) || require;\r\n",
       "\r\n",
       "                return internalRequire\r\n",
       "            };\r\n",
       "        \r\n",
       "            dotnetInteractiveRequire([\r\n",
       "                    'dotnet-interactive/dotnet-interactive'\r\n",
       "                ],\r\n",
       "                function (dotnet) {\r\n",
       "                    dotnet.init(window);\r\n",
       "                },\r\n",
       "                function (error) {\r\n",
       "                    console.log(error);\r\n",
       "                }\r\n",
       "            );\r\n",
       "        })\r\n",
       "        .catch(error => {console.log(error);});\r\n",
       "    }\r\n",
       "\r\n",
       "// ensure `require` is available globally\r\n",
       "if ((typeof(require) !==  typeof(Function)) || (typeof(require.config) !== typeof(Function))) {\r\n",
       "    let require_script = document.createElement('script');\r\n",
       "    require_script.setAttribute('src', 'https://cdnjs.cloudflare.com/ajax/libs/require.js/2.3.6/require.min.js');\r\n",
       "    require_script.setAttribute('type', 'text/javascript');\r\n",
       "    \r\n",
       "    \r\n",
       "    require_script.onload = function() {\r\n",
       "        loadDotnetInteractiveApi();\r\n",
       "    };\r\n",
       "\r\n",
       "    document.getElementsByTagName('head')[0].appendChild(require_script);\r\n",
       "}\r\n",
       "else {\r\n",
       "    loadDotnetInteractiveApi();\r\n",
       "}\r\n",
       "\r\n",
       "    </script>\r\n",
       "</div>"
      ]
     },
     "metadata": {},
     "output_type": "display_data"
    }
   ],
   "source": [
    "using System;\n",
    "using System.IO;\n",
    "using System.Collections.Generic;\n",
    "using System.Linq;"
   ]
  },
  {
   "cell_type": "markdown",
   "metadata": {},
   "source": [
    "# The plan"
   ]
  },
  {
   "cell_type": "markdown",
   "metadata": {},
   "source": [
    "We scan the list in two passes.\n",
    "\n",
    "* In the first pass, we collect the known types and occupations for each node.\n",
    "* In the second pass, for each row, we look up the matching type/occupation and record a count of this property on that type."
   ]
  },
  {
   "cell_type": "markdown",
   "metadata": {},
   "source": [
    "Then we can use this to write out a table of type-property-counts:"
   ]
  },
  {
   "cell_type": "markdown",
   "metadata": {},
   "source": [
    "    type    property    count"
   ]
  },
  {
   "cell_type": "markdown",
   "metadata": {},
   "source": [
    "We can then use this table to rate nodes."
   ]
  },
  {
   "cell_type": "markdown",
   "metadata": {},
   "source": [
    "# Configuration"
   ]
  },
  {
   "cell_type": "code",
   "execution_count": 2,
   "metadata": {},
   "outputs": [],
   "source": [
    "// data source\n",
    "var edges = \"/scratch/trh6u/db_csv/WD_entity_prop_entity.csv\";"
   ]
  },
  {
   "cell_type": "code",
   "execution_count": 3,
   "metadata": {},
   "outputs": [],
   "source": [
    "// property of interest\n",
    "const int p_InstanceOf = 31;\n",
    "const int p_SubclassOf = 279;\n",
    "var propertyOfInterest =  p_InstanceOf;\n",
    "    // instance of 31;"
   ]
  },
  {
   "cell_type": "code",
   "execution_count": 4,
   "metadata": {},
   "outputs": [],
   "source": [
    "var test_path = $@\"/scratch/jag2j/final_data/test1000_10plus.csv\";"
   ]
  },
  {
   "cell_type": "code",
   "execution_count": 5,
   "metadata": {},
   "outputs": [],
   "source": [
    "var testIds =\n",
    "    File.ReadLines(test_path)\n",
    "        .Skip(1) // header\n",
    "        .Select(x => x.Split(\",\")[1])\n",
    "        .Select(long.Parse)\n",
    "        .ToHashSet();"
   ]
  },
  {
   "cell_type": "code",
   "execution_count": 6,
   "metadata": {},
   "outputs": [
    {
     "data": {
      "text/html": [
       "<table><thead><tr><th><i>index</i></th><th>value</th></tr></thead><tbody><tr><td>0</td><td><div class=\"dni-plaintext\">2723552</div></td></tr><tr><td>1</td><td><div class=\"dni-plaintext\">34107551</div></td></tr><tr><td>2</td><td><div class=\"dni-plaintext\">37144419</div></td></tr><tr><td>3</td><td><div class=\"dni-plaintext\">4221945</div></td></tr><tr><td>4</td><td><div class=\"dni-plaintext\">53638750</div></td></tr></tbody></table>"
      ]
     },
     "execution_count": 6,
     "metadata": {},
     "output_type": "execute_result"
    }
   ],
   "source": [
    "testIds.Take(5)"
   ]
  },
  {
   "cell_type": "markdown",
   "metadata": {},
   "source": [
    "# Data Model"
   ]
  },
  {
   "cell_type": "markdown",
   "metadata": {},
   "source": [
    "# Reader functions"
   ]
  },
  {
   "cell_type": "code",
   "execution_count": 7,
   "metadata": {},
   "outputs": [],
   "source": [
    "// always empty list\n",
    "var empty = new List<long>();"
   ]
  },
  {
   "cell_type": "code",
   "execution_count": 8,
   "metadata": {},
   "outputs": [],
   "source": [
    "class Edge {\n",
    "    public long S;\n",
    "    public long P;\n",
    "    public long O;\n",
    "    public Edge(long s, long p, long o) {\n",
    "        S = s; P = p; O = o;\n",
    "    }\n",
    "}"
   ]
  },
  {
   "cell_type": "code",
   "execution_count": 9,
   "metadata": {},
   "outputs": [],
   "source": [
    "// Read the lines of a file, passing them through a parse function\n",
    "// and returning the results for those successfully parsed.\n",
    "//\n",
    "// You can optional set a maximum line count.\n",
    "IEnumerable<T> Read<T>(TextReader tr, Func<string, T> parse, int maxCount = -1) \n",
    "{\n",
    "   for(var i = 0; maxCount == -1 || i < maxCount; i++)\n",
    "   {\n",
    "      var line = tr.ReadLine();\n",
    "      if (line == null) yield break;\n",
    "      var parsed = parse(line);\n",
    "      if(parsed != null) {\n",
    "         yield return parsed;\n",
    "      }\n",
    "   }\n",
    "}"
   ]
  },
  {
   "cell_type": "code",
   "execution_count": 10,
   "metadata": {},
   "outputs": [],
   "source": [
    "// Parse an edge from the edge file (src, dst).\n",
    "// Return null if the line is corrupt or edges are not numeric.\n",
    " Edge ParseEdge(string line) {\n",
    "   var fields = line.Split(',');\n",
    "   if(fields.Length < 3) return null;\n",
    "   if(!long.TryParse(fields[0], out var e1)) return null;\n",
    "   if(!long.TryParse(fields[1], out var e2)) return null;\n",
    "   if(!long.TryParse(fields[2], out var e3)) return null;\n",
    "   return new Edge(e1, e2, e3);\n",
    "}"
   ]
  },
  {
   "cell_type": "code",
   "execution_count": 11,
   "metadata": {},
   "outputs": [],
   "source": [
    "// Open a reader on a file\n",
    "TextReader GetReader(string path)\n",
    "{\n",
    "   var fr = new FileStream(path, FileMode.Open, FileAccess.Read, FileShare.ReadWrite);\n",
    "   var tr = new StreamReader(fr); // auto-close fr when tr closes\n",
    "   return tr;\n",
    "}"
   ]
  },
  {
   "cell_type": "markdown",
   "metadata": {},
   "source": [
    "# Build type map"
   ]
  },
  {
   "cell_type": "code",
   "execution_count": 12,
   "metadata": {},
   "outputs": [],
   "source": [
    "// entites :: entity ID -> ID of entity representing type (i.e., the superentity)\n",
    "var testTypes = new Dictionary<long,List<long>>();\n",
    "var entities = new Dictionary<long, long>(500_000_000);\n",
    "\n",
    "using(var r = GetReader(edges)) {\n",
    "    foreach(var res in Read(r, ParseEdge))\n",
    "    {\n",
    "        // capture test type\n",
    "        if(testIds.Contains(res.S) && res.P == propertyOfInterest)\n",
    "        {\n",
    "            if(!testTypes.TryGetValue(res.S, out var testEntity)) {\n",
    "                testTypes[res.S] = new List<long> { res.O };\n",
    "            }\n",
    "            else testTypes[res.S].Add(res.O);\n",
    "        }\n",
    "        \n",
    "        // for processing training entities list, drop test data\n",
    "        if(testIds.Contains(res.S) || testIds.Contains(res.P))\n",
    "        {\n",
    "            continue; // skip the below processing to exclude test data from training data\n",
    "        }\n",
    "        \n",
    "        if(!entities.TryGetValue(res.S, out var entity)) {\n",
    "            entities[res.S] = 0; // default to 0\n",
    "        }\n",
    "\n",
    "        if(res.P == propertyOfInterest) {\n",
    "            entities[res.S] = res.O;            \n",
    "        }\n",
    "    }\n",
    "}"
   ]
  },
  {
   "cell_type": "code",
   "execution_count": 13,
   "metadata": {},
   "outputs": [
    {
     "data": {
      "text/html": [
       "<table><thead><tr><th><i>index</i></th><th>Key</th><th>Value</th></tr></thead><tbody><tr><td>0</td><td><div class=\"dni-plaintext\">31</div></td><td><div class=\"dni-plaintext\">3624078</div></td></tr><tr><td>1</td><td><div class=\"dni-plaintext\">8</div></td><td><div class=\"dni-plaintext\">9415</div></td></tr><tr><td>2</td><td><div class=\"dni-plaintext\">23</div></td><td><div class=\"dni-plaintext\">5</div></td></tr><tr><td>3</td><td><div class=\"dni-plaintext\">24</div></td><td><div class=\"dni-plaintext\">15773317</div></td></tr><tr><td>4</td><td><div class=\"dni-plaintext\">42</div></td><td><div class=\"dni-plaintext\">5</div></td></tr><tr><td>5</td><td><div class=\"dni-plaintext\">1868</div></td><td><div class=\"dni-plaintext\">5</div></td></tr><tr><td>6</td><td><div class=\"dni-plaintext\">2013</div></td><td><div class=\"dni-plaintext\">15633582</div></td></tr><tr><td>7</td><td><div class=\"dni-plaintext\">45</div></td><td><div class=\"dni-plaintext\">20181813</div></td></tr><tr><td>8</td><td><div class=\"dni-plaintext\">51</div></td><td><div class=\"dni-plaintext\">82794</div></td></tr><tr><td>9</td><td><div class=\"dni-plaintext\">58</div></td><td><div class=\"dni-plaintext\">0</div></td></tr></tbody></table>"
      ]
     },
     "execution_count": 13,
     "metadata": {},
     "output_type": "execute_result"
    }
   ],
   "source": [
    "entities.Take(10)"
   ]
  },
  {
   "cell_type": "code",
   "execution_count": 14,
   "metadata": {},
   "outputs": [
    {
     "data": {
      "text/html": [
       "<table><thead><tr><th><i>index</i></th><th>Key</th><th>Value</th></tr></thead><tbody><tr><td>0</td><td><div class=\"dni-plaintext\">7795</div></td><td><div class=\"dni-plaintext\">[ 484652, 431603, 245065 ]</div></td></tr><tr><td>1</td><td><div class=\"dni-plaintext\">43789</div></td><td><div class=\"dni-plaintext\">[ 5 ]</div></td></tr><tr><td>2</td><td><div class=\"dni-plaintext\">89050</div></td><td><div class=\"dni-plaintext\">[ 5 ]</div></td></tr><tr><td>3</td><td><div class=\"dni-plaintext\">290808</div></td><td><div class=\"dni-plaintext\">[ 5 ]</div></td></tr><tr><td>4</td><td><div class=\"dni-plaintext\">340435</div></td><td><div class=\"dni-plaintext\">[ 5 ]</div></td></tr></tbody></table>"
      ]
     },
     "execution_count": 14,
     "metadata": {},
     "output_type": "execute_result"
    }
   ],
   "source": [
    "testTypes.Take(5)"
   ]
  },
  {
   "cell_type": "markdown",
   "metadata": {},
   "source": [
    "Let's make sure the ID is skipped."
   ]
  },
  {
   "cell_type": "code",
   "execution_count": 15,
   "metadata": {},
   "outputs": [
    {
     "data": {
      "text/html": [
       "<div class=\"dni-plaintext\">2723552</div>"
      ]
     },
     "execution_count": 15,
     "metadata": {},
     "output_type": "execute_result"
    }
   ],
   "source": [
    "var sampleTestId = testIds.FirstOrDefault();    \n",
    "sampleTestId"
   ]
  },
  {
   "cell_type": "code",
   "execution_count": 16,
   "metadata": {},
   "outputs": [
    {
     "data": {
      "text/html": [
       "<i>(empty)</i>"
      ]
     },
     "execution_count": 16,
     "metadata": {},
     "output_type": "execute_result"
    }
   ],
   "source": [
    "entities.Where(e => e.Key == sampleTestId || e.Value == sampleTestId)"
   ]
  },
  {
   "cell_type": "code",
   "execution_count": 17,
   "metadata": {},
   "outputs": [
    {
     "data": {
      "text/html": [
       "<table><thead><tr><th><i>index</i></th><th>Key</th><th>Value</th></tr></thead><tbody><tr><td>0</td><td><div class=\"dni-plaintext\">2723552</div></td><td><div class=\"dni-plaintext\">[ 5 ]</div></td></tr></tbody></table>"
      ]
     },
     "execution_count": 17,
     "metadata": {},
     "output_type": "execute_result"
    }
   ],
   "source": [
    "testTypes.Where(e=>e.Key == sampleTestId || e.Value.Contains(sampleTestId))"
   ]
  },
  {
   "cell_type": "code",
   "execution_count": 18,
   "metadata": {},
   "outputs": [],
   "source": [
    "using(var f = new FileStream($\"/scratch/jag2j/final_data/{propertyOfInterest}-test-types_10plus.csv\", FileMode.Create)) \n",
    "using(var tw = new StreamWriter(f))\n",
    "{\n",
    "    tw.AutoFlush = true;\n",
    "    tw.WriteLine(\"entity,type\");\n",
    "    foreach(var kv in testTypes)\n",
    "    foreach(var v in kv.Value.Distinct())\n",
    "    {\n",
    "      var entity = kv.Key;\n",
    "      var type = v;\n",
    "      tw.WriteLine($\"{entity},{type}\");\n",
    "    }\n",
    "}"
   ]
  },
  {
   "cell_type": "code",
   "execution_count": 19,
   "metadata": {},
   "outputs": [],
   "source": [
    "using(var f = new FileStream($\"/scratch/jag2j/final_data/{propertyOfInterest}-train-types_10plus.csv\", FileMode.Create)) \n",
    "using(var tw = new StreamWriter(f))\n",
    "{\n",
    "    tw.AutoFlush = true;\n",
    "    tw.WriteLine(\"entity,type\");\n",
    "    foreach(var kv in entities)\n",
    "    {\n",
    "      var entity = kv.Key;\n",
    "      var type = kv.Value;\n",
    "      tw.WriteLine($\"{entity},{type}\");\n",
    "    }\n",
    "}"
   ]
  },
  {
   "cell_type": "markdown",
   "metadata": {},
   "source": [
    "# Build type/prop count"
   ]
  },
  {
   "cell_type": "code",
   "execution_count": 20,
   "metadata": {},
   "outputs": [],
   "source": [
    "// set { (subject, prop) }\n",
    "var seen = new HashSet<Tuple<long, long>>();\n",
    "\n",
    "// (type, prop) -> count (= sp_mat)\n",
    "var typeprops = new Dictionary<Tuple<long, long>, long>();\n",
    "\n",
    "using(var r = GetReader(edges)) {\n",
    "    foreach(var res in Read(r, ParseEdge)) {\n",
    "        if(testIds.Contains(res.S) || testIds.Contains(res.P)) continue; // skip test data\n",
    "        \n",
    "        var type = entities[res.S];\n",
    "        var key = Tuple.Create(type, res.P);\n",
    "        \n",
    "        // skip if this subj/prop is not new\n",
    "        var subjProp = Tuple.Create(res.S, res.P);\n",
    "        if(!seen.Add(subjProp)) {\n",
    "            continue; \n",
    "        }\n",
    "        \n",
    "        if(!typeprops.TryGetValue(key, out var cnt)) {\n",
    "            typeprops[key] = 1;\n",
    "        }\n",
    "        else typeprops[key] += 1;\n",
    "    }\n",
    "}\n",
    "\n",
    "// permit seen memory to be freed\n",
    "seen = null;"
   ]
  },
  {
   "cell_type": "code",
   "execution_count": 21,
   "metadata": {},
   "outputs": [
    {
     "data": {
      "text/html": [
       "<table><thead><tr><th><i>index</i></th><th>Key</th><th>Value</th></tr></thead><tbody><tr><td>0</td><td><div class=\"dni-plaintext\">( 3624078, 1344 )</div></td><td><div class=\"dni-plaintext\">8</div></td></tr><tr><td>1</td><td><div class=\"dni-plaintext\">( 3624078, 1151 )</div></td><td><div class=\"dni-plaintext\">39</div></td></tr><tr><td>2</td><td><div class=\"dni-plaintext\">( 3624078, 1546 )</div></td><td><div class=\"dni-plaintext\">8</div></td></tr><tr><td>3</td><td><div class=\"dni-plaintext\">( 3624078, 5125 )</div></td><td><div class=\"dni-plaintext\">39</div></td></tr><tr><td>4</td><td><div class=\"dni-plaintext\">( 3624078, 38 )</div></td><td><div class=\"dni-plaintext\">39</div></td></tr><tr><td>5</td><td><div class=\"dni-plaintext\">( 3624078, 1792 )</div></td><td><div class=\"dni-plaintext\">39</div></td></tr><tr><td>6</td><td><div class=\"dni-plaintext\">( 3624078, 2852 )</div></td><td><div class=\"dni-plaintext\">39</div></td></tr><tr><td>7</td><td><div class=\"dni-plaintext\">( 3624078, 2853 )</div></td><td><div class=\"dni-plaintext\">38</div></td></tr><tr><td>8</td><td><div class=\"dni-plaintext\">( 3624078, 2633 )</div></td><td><div class=\"dni-plaintext\">39</div></td></tr><tr><td>9</td><td><div class=\"dni-plaintext\">( 3624078, 1313 )</div></td><td><div class=\"dni-plaintext\">39</div></td></tr></tbody></table>"
      ]
     },
     "execution_count": 21,
     "metadata": {},
     "output_type": "execute_result"
    }
   ],
   "source": [
    "typeprops.Take(10)"
   ]
  },
  {
   "cell_type": "code",
   "execution_count": 22,
   "metadata": {},
   "outputs": [],
   "source": [
    "using(var f = new FileStream($\"/scratch/jag2j/final_data/aux/{propertyOfInterest}_type-property-count_10plus.csv\", FileMode.Create)) \n",
    "using(var tw = new StreamWriter(f))\n",
    "{\n",
    "    tw.AutoFlush = true;\n",
    "    tw.WriteLine(\"type,property,count\");\n",
    "    foreach(var kv in typeprops) {\n",
    "        var type = kv.Key.Item1;\n",
    "        var prop = kv.Key.Item2;\n",
    "        var cnt = kv.Value;\n",
    "        tw.WriteLine($\"{type},{prop},{cnt}\");\n",
    "    }\n",
    "}"
   ]
  },
  {
   "cell_type": "markdown",
   "metadata": {},
   "source": [
    "# Compute totals and frequency matrix"
   ]
  },
  {
   "cell_type": "code",
   "execution_count": 23,
   "metadata": {},
   "outputs": [],
   "source": [
    "// type -> # of entities with the type (= se_sum)\n",
    "var totals =\n",
    "    // type x entity\n",
    "    entities.GroupBy(e => e.Value)\n",
    "        .ToDictionary(e => e.Key, e => e.Count());\n",
    "\n",
    "using(var f = new FileStream($\"/scratch/jag2j/final_data/aux/{propertyOfInterest}_se_sum_10plus.csv\", FileMode.Create)) \n",
    "using(var tw = new StreamWriter(f))\n",
    "{\n",
    "    tw.AutoFlush = true;\n",
    "    tw.WriteLine(\"type,count\");\n",
    "    foreach(var kv in totals) {\n",
    "        tw.WriteLine($\"{kv.Key},{kv.Value}\");\n",
    "\n",
    "    }\n",
    "}"
   ]
  },
  {
   "cell_type": "code",
   "execution_count": 24,
   "metadata": {},
   "outputs": [],
   "source": [
    "var freqList = new List<(long type, long prop, float freq)>();\n",
    "\n",
    "using(var f = new FileStream($\"/scratch/jag2j/final_data/{propertyOfInterest}-train_freq_matrix_10plus.csv\", FileMode.Create)) \n",
    "using(var tw = new StreamWriter(f))\n",
    "{\n",
    "    tw.AutoFlush = true;\n",
    "    tw.WriteLine(\"type,property,frequency\");\n",
    "    foreach(var kv in typeprops) {\n",
    "        var type = kv.Key.Item1;\n",
    "        var prop = kv.Key.Item2;\n",
    "        float freq = kv.Value;\n",
    "        if(totals.TryGetValue(type, out var typeSubjectCount)) {\n",
    "            if(typeSubjectCount > 0)\n",
    "              freq /= typeSubjectCount;\n",
    "        }\n",
    "        freqList.Add((type, prop, freq));\n",
    "        tw.WriteLine($\"{type},{prop},{freq}\");\n",
    "    }\n",
    "}"
   ]
  },
  {
   "cell_type": "code",
   "execution_count": 30,
   "metadata": {},
   "outputs": [
    {
     "data": {
      "text/html": [
       "<table><thead><tr><th><i>index</i></th><th>Item1</th><th>Item2</th><th>Item3</th></tr></thead><tbody><tr><td>0</td><td><div class=\"dni-plaintext\">3624078</div></td><td><div class=\"dni-plaintext\">1344</div></td><td><div class=\"dni-plaintext\">0.17391305</div></td></tr><tr><td>1</td><td><div class=\"dni-plaintext\">3624078</div></td><td><div class=\"dni-plaintext\">1151</div></td><td><div class=\"dni-plaintext\">0.84782606</div></td></tr><tr><td>2</td><td><div class=\"dni-plaintext\">3624078</div></td><td><div class=\"dni-plaintext\">1546</div></td><td><div class=\"dni-plaintext\">0.17391305</div></td></tr><tr><td>3</td><td><div class=\"dni-plaintext\">3624078</div></td><td><div class=\"dni-plaintext\">5125</div></td><td><div class=\"dni-plaintext\">0.84782606</div></td></tr><tr><td>4</td><td><div class=\"dni-plaintext\">3624078</div></td><td><div class=\"dni-plaintext\">38</div></td><td><div class=\"dni-plaintext\">0.84782606</div></td></tr><tr><td>5</td><td><div class=\"dni-plaintext\">3624078</div></td><td><div class=\"dni-plaintext\">1792</div></td><td><div class=\"dni-plaintext\">0.84782606</div></td></tr><tr><td>6</td><td><div class=\"dni-plaintext\">3624078</div></td><td><div class=\"dni-plaintext\">2852</div></td><td><div class=\"dni-plaintext\">0.84782606</div></td></tr><tr><td>7</td><td><div class=\"dni-plaintext\">3624078</div></td><td><div class=\"dni-plaintext\">2853</div></td><td><div class=\"dni-plaintext\">0.82608694</div></td></tr><tr><td>8</td><td><div class=\"dni-plaintext\">3624078</div></td><td><div class=\"dni-plaintext\">2633</div></td><td><div class=\"dni-plaintext\">0.84782606</div></td></tr><tr><td>9</td><td><div class=\"dni-plaintext\">3624078</div></td><td><div class=\"dni-plaintext\">1313</div></td><td><div class=\"dni-plaintext\">0.84782606</div></td></tr><tr><td>10</td><td><div class=\"dni-plaintext\">3624078</div></td><td><div class=\"dni-plaintext\">417</div></td><td><div class=\"dni-plaintext\">0.08695652</div></td></tr><tr><td>11</td><td><div class=\"dni-plaintext\">3624078</div></td><td><div class=\"dni-plaintext\">17</div></td><td><div class=\"dni-plaintext\">1</div></td></tr><tr><td>12</td><td><div class=\"dni-plaintext\">3624078</div></td><td><div class=\"dni-plaintext\">2959</div></td><td><div class=\"dni-plaintext\">0.8043478</div></td></tr><tr><td>13</td><td><div class=\"dni-plaintext\">3624078</div></td><td><div class=\"dni-plaintext\">122</div></td><td><div class=\"dni-plaintext\">0.67391306</div></td></tr><tr><td>14</td><td><div class=\"dni-plaintext\">3624078</div></td><td><div class=\"dni-plaintext\">1552</div></td><td><div class=\"dni-plaintext\">0.8043478</div></td></tr><tr><td>15</td><td><div class=\"dni-plaintext\">3624078</div></td><td><div class=\"dni-plaintext\">793</div></td><td><div class=\"dni-plaintext\">0.17391305</div></td></tr><tr><td>16</td><td><div class=\"dni-plaintext\">3624078</div></td><td><div class=\"dni-plaintext\">530</div></td><td><div class=\"dni-plaintext\">0.84782606</div></td></tr><tr><td>17</td><td><div class=\"dni-plaintext\">3624078</div></td><td><div class=\"dni-plaintext\">1906</div></td><td><div class=\"dni-plaintext\">0.84782606</div></td></tr><tr><td>18</td><td><div class=\"dni-plaintext\">3624078</div></td><td><div class=\"dni-plaintext\">194</div></td><td><div class=\"dni-plaintext\">0.9782609</div></td></tr><tr><td>19</td><td><div class=\"dni-plaintext\">3624078</div></td><td><div class=\"dni-plaintext\">2184</div></td><td><div class=\"dni-plaintext\">0.82608694</div></td></tr><tr><td colspan=\"4\">(522270 more)</td></tr></tbody></table>"
      ]
     },
     "execution_count": 30,
     "metadata": {},
     "output_type": "execute_result"
    }
   ],
   "source": [
    "freqList"
   ]
  },
  {
   "cell_type": "code",
   "execution_count": 27,
   "metadata": {},
   "outputs": [
    {
     "data": {
      "text/html": [
       "<div class=\"dni-plaintext\">522290</div>"
      ]
     },
     "execution_count": 27,
     "metadata": {},
     "output_type": "execute_result"
    }
   ],
   "source": [
    "freqList.Count()"
   ]
  },
  {
   "cell_type": "code",
   "execution_count": 29,
   "metadata": {},
   "outputs": [
    {
     "data": {
      "text/html": [
       "<div class=\"dni-plaintext\">522290</div>"
      ]
     },
     "execution_count": 29,
     "metadata": {},
     "output_type": "execute_result"
    }
   ],
   "source": [
    "typeprops.Count()"
   ]
  }
 ],
 "metadata": {
  "kernelspec": {
   "display_name": ".NET (C#)",
   "language": "C#",
   "name": ".net-csharp"
  },
  "language_info": {
   "file_extension": ".cs",
   "mimetype": "text/x-csharp",
   "name": "C#",
   "pygments_lexer": "csharp",
   "version": "8.0"
  }
 },
 "nbformat": 4,
 "nbformat_minor": 4
}
