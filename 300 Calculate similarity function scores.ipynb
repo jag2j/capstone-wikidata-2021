{
 "cells": [
  {
   "cell_type": "code",
   "execution_count": 4,
   "metadata": {},
   "outputs": [],
   "source": [
    "#r \"tools/bin/Debug/netcoreapp3.1/tools.dll\"\n",
    "\n",
    "using System;\n",
    "using System.IO;\n",
    "using System.Collections.Generic;\n",
    "using System.Linq;\n",
    "using System.Threading.Tasks;\n",
    "using System.Collections.Concurrent;\n"
   ]
  },
  {
   "cell_type": "markdown",
   "metadata": {},
   "source": [
    "# Configuration"
   ]
  },
  {
   "cell_type": "code",
   "execution_count": 5,
   "metadata": {},
   "outputs": [],
   "source": [
    "const int p_InstanceOf = 31;\n",
    "const int p_SubclassOf = 279;\n",
    "var propertyOfInterest =  p_InstanceOf;"
   ]
  },
  {
   "cell_type": "code",
   "execution_count": 28,
   "metadata": {},
   "outputs": [],
   "source": [
    "var epe_path  = \"/scratch/trh6u/db_csv/WD_entity_prop_entity.csv\";\n",
    "var freq_path = $\"/scratch/jag2j/final_data/{propertyOfInterest}-train_freq_matrix.csv\";\n",
    "var test_path = $@\"/scratch/jag2j/final_data/test_entities_P{propertyOfInterest}_1000.csv\";\n",
    "var se_sum_path = $@\"/scratch/jag2j/final_data/aux/{propertyOfInterest}_se_sum.csv\";"
   ]
  },
  {
   "cell_type": "markdown",
   "metadata": {},
   "source": [
    "# Read in data"
   ]
  },
  {
   "cell_type": "code",
   "execution_count": 30,
   "metadata": {},
   "outputs": [],
   "source": [
    "var se_sum = File.ReadLines(se_sum_path)\n",
    "                 .Skip(1) // heading\n",
    "                 .Select(line => line.Split(\",\").Select(int.Parse).ToArray())\n",
    "                 .Select(cols => new {\n",
    "                     Type = cols[0],\n",
    "                     Count = cols[1]\n",
    "                 })\n",
    "                 .ToDictionary(x => x.Type, x => x.Count);"
   ]
  },
  {
   "cell_type": "code",
   "execution_count": 32,
   "metadata": {},
   "outputs": [
    {
     "data": {
      "text/html": [
       "<table><thead><tr><th><i>index</i></th><th>Key</th><th>Value</th></tr></thead><tbody><tr><td>0</td><td><div class=\"dni-plaintext\">3624078</div></td><td><div class=\"dni-plaintext\">46</div></td></tr><tr><td>1</td><td><div class=\"dni-plaintext\">9415</div></td><td><div class=\"dni-plaintext\">58</div></td></tr><tr><td>2</td><td><div class=\"dni-plaintext\">5</div></td><td><div class=\"dni-plaintext\">8248222</div></td></tr><tr><td>3</td><td><div class=\"dni-plaintext\">15773317</div></td><td><div class=\"dni-plaintext\">8023</div></td></tr><tr><td>4</td><td><div class=\"dni-plaintext\">15633582</div></td><td><div class=\"dni-plaintext\">138</div></td></tr></tbody></table>"
      ]
     },
     "execution_count": 32,
     "metadata": {},
     "output_type": "execute_result"
    }
   ],
   "source": [
    "se_sum.Take(5) // count of distinct subjects by type"
   ]
  },
  {
   "cell_type": "code",
   "execution_count": 20,
   "metadata": {},
   "outputs": [],
   "source": [
    "var testIds = File.ReadLines(test_path).Select(int.Parse).ToHashSet();"
   ]
  },
  {
   "cell_type": "code",
   "execution_count": 9,
   "metadata": {},
   "outputs": [],
   "source": [
    "List<ClassFrequencies> freq;\n",
    "using(var reader = Formats.GetReader(freq_path))\n",
    "    freq = Formats.ReadFrequencyFile(reader).ToList();"
   ]
  },
  {
   "cell_type": "markdown",
   "metadata": {},
   "source": [
    "## Calculate capacity"
   ]
  },
  {
   "cell_type": "markdown",
   "metadata": {},
   "source": [
    "The arrays are sized based on the maximum property ID (which must fit into a 32-bit integer)."
   ]
  },
  {
   "cell_type": "code",
   "execution_count": 10,
   "metadata": {},
   "outputs": [
    {
     "data": {
      "text/html": [
       "<div class=\"dni-plaintext\">8671</div>"
      ]
     },
     "execution_count": 10,
     "metadata": {},
     "output_type": "execute_result"
    }
   ],
   "source": [
    "int maxFreq = freq.Select(c => c.Properties.Length).Max();\n",
    "maxFreq"
   ]
  },
  {
   "cell_type": "markdown",
   "metadata": {},
   "source": [
    "We actually only have the following number of properties with a non-zero frequency, so we could save on memory if we compress the IDs, but we don't do this here.  We want speed!"
   ]
  },
  {
   "cell_type": "code",
   "execution_count": 11,
   "metadata": {},
   "outputs": [
    {
     "data": {
      "text/html": [
       "<div class=\"dni-plaintext\">1340</div>"
      ]
     },
     "execution_count": 11,
     "metadata": {},
     "output_type": "execute_result"
    }
   ],
   "source": [
    "freq.SelectMany(f => Enumerable.Range(1, maxFreq-1)\n",
    "                               .Where(i => f.Properties[i] != 0))\n",
    "    .Distinct()\n",
    "    .Count()"
   ]
  },
  {
   "cell_type": "markdown",
   "metadata": {},
   "source": [
    "We show the count of types associated with the frequency matrix.  There are about 66,000 types (for P31).  "
   ]
  },
  {
   "cell_type": "code",
   "execution_count": 12,
   "metadata": {},
   "outputs": [
    {
     "data": {
      "text/html": [
       "<div class=\"dni-plaintext\">65919</div>"
      ]
     },
     "execution_count": 12,
     "metadata": {},
     "output_type": "execute_result"
    }
   ],
   "source": [
    "var numDistinctTypes = freq.Select(f => f.Id).Distinct().Count();\n",
    "numDistinctTypes"
   ]
  },
  {
   "cell_type": "markdown",
   "metadata": {},
   "source": [
    "We'll need about 2 GB to store this in memory."
   ]
  },
  {
   "cell_type": "code",
   "execution_count": 13,
   "metadata": {},
   "outputs": [
    {
     "data": {
      "text/html": [
       "<div class=\"dni-plaintext\">2.1291017532348633</div>"
      ]
     },
     "execution_count": 13,
     "metadata": {},
     "output_type": "execute_result"
    }
   ],
   "source": [
    "(\n",
    "    // size of frequency byte mask \n",
    "    //  - we could save on memory using bitfields, but we don't\n",
    "    freq.Select(f => f.Id).Distinct().Count() * 4  \n",
    "    // size of entity ID\n",
    "    + 4\n",
    ") / 1024.0 * 8670 / 1024 / 1024"
   ]
  },
  {
   "cell_type": "code",
   "execution_count": 14,
   "metadata": {},
   "outputs": [
    {
     "data": {
      "text/html": [
       "<table><thead><tr><th><i>index</i></th><th>Id</th><th>Properties</th></tr></thead><tbody><tr><td>0</td><td><div class=\"dni-plaintext\">3624078</div></td><td><div class=\"dni-plaintext\">[ 0, 0, 0, 0, 0, 0, 0.84782606, 0, 0, 0, 0, 0, 0, 0, 0, 0, 0, 1, 0, 0 ... (8651 more) ]</div></td></tr><tr><td>1</td><td><div class=\"dni-plaintext\">9415</div></td><td><div class=\"dni-plaintext\">[ 0, 0, 0, 0, 0, 0, 0, 0, 0, 0, 0, 0, 0, 0, 0, 0, 0, 0, 0, 0 ... (8651 more) ]</div></td></tr><tr><td>2</td><td><div class=\"dni-plaintext\">5</div></td><td><div class=\"dni-plaintext\">[ 0, 0, 0, 0, 0, 0, 4.6070536E-06, 0, 0, 0, 0, 0, 0, 0, 0, 0, 0, 0.0001325134, 0, 0.3162867 ... (8651 more) ]</div></td></tr><tr><td>3</td><td><div class=\"dni-plaintext\">15773317</div></td><td><div class=\"dni-plaintext\">[ 0, 0, 0, 0, 0, 0, 0, 0, 0, 0, 0, 0, 0, 0, 0, 0, 0, 0.0034899663, 0, 0.036021437 ... (8651 more) ]</div></td></tr><tr><td>4</td><td><div class=\"dni-plaintext\">15633582</div></td><td><div class=\"dni-plaintext\">[ 0, 0, 0, 0, 0, 0, 0, 0, 0, 0, 0, 0, 0, 0, 0, 0, 0, 0.11594203, 0, 0 ... (8651 more) ]</div></td></tr></tbody></table>"
      ]
     },
     "execution_count": 14,
     "metadata": {},
     "output_type": "execute_result"
    }
   ],
   "source": [
    "freq.Take(5)"
   ]
  },
  {
   "cell_type": "markdown",
   "metadata": {},
   "source": [
    "## Parser for entity-property-entity matrix"
   ]
  },
  {
   "cell_type": "markdown",
   "metadata": {},
   "source": [
    "We define some types that will help us with parsing, but we will discard after we load everything."
   ]
  },
  {
   "cell_type": "markdown",
   "metadata": {},
   "source": [
    "A generator of all the edge data."
   ]
  },
  {
   "cell_type": "code",
   "execution_count": 21,
   "metadata": {},
   "outputs": [],
   "source": [
    "IEnumerable<Edge> epe => \n",
    "        Formats.ReadEdgeFile(Formats.GetReader(epe_path))\n",
    "               .Where(e => testIds.Contains(e.S));"
   ]
  },
  {
   "cell_type": "code",
   "execution_count": 22,
   "metadata": {},
   "outputs": [
    {
     "data": {
      "text/html": [
       "<table><thead><tr><th><i>index</i></th><th>S</th><th>P</th><th>O</th></tr></thead><tbody><tr><td>0</td><td><div class=\"dni-plaintext\">34786</div></td><td><div class=\"dni-plaintext\">31</div></td><td><div class=\"dni-plaintext\">34770</div></td></tr><tr><td>1</td><td><div class=\"dni-plaintext\">34786</div></td><td><div class=\"dni-plaintext\">31</div></td><td><div class=\"dni-plaintext\">1288568</div></td></tr><tr><td>2</td><td><div class=\"dni-plaintext\">34786</div></td><td><div class=\"dni-plaintext\">910</div></td><td><div class=\"dni-plaintext\">33071841</div></td></tr></tbody></table>"
      ]
     },
     "execution_count": 22,
     "metadata": {},
     "output_type": "execute_result"
    }
   ],
   "source": [
    "epe.Take(3)"
   ]
  },
  {
   "cell_type": "markdown",
   "metadata": {},
   "source": [
    "## Discuss size"
   ]
  },
  {
   "cell_type": "markdown",
   "metadata": {},
   "source": [
    "There are roughly 100 M distinct entities."
   ]
  },
  {
   "cell_type": "markdown",
   "metadata": {},
   "source": [
    "So 8KB * 100M is roughly 800GB.  So we can't fit the whole half-sparse matrix."
   ]
  },
  {
   "cell_type": "markdown",
   "metadata": {},
   "source": [
    "## Load entity property binary matrix"
   ]
  },
  {
   "cell_type": "code",
   "execution_count": 23,
   "metadata": {},
   "outputs": [
    {
     "data": {
      "text/plain": [
       "Wall time: 169651.1797ms"
      ]
     },
     "metadata": {},
     "output_type": "display_data"
    }
   ],
   "source": [
    "#!time\n",
    "var entities = Formats.BuildEntityProperties<HashSet<int>>(epe);"
   ]
  },
  {
   "cell_type": "code",
   "execution_count": 25,
   "metadata": {},
   "outputs": [
    {
     "data": {
      "text/html": [
       "<table><thead><tr><th><i>index</i></th><th>Id</th><th>Properties</th></tr></thead><tbody><tr><td>0</td><td><div class=\"dni-plaintext\">34786</div></td><td><div class=\"dni-plaintext\">[ 31, 910, 279, 3823, 17, 2341 ]</div></td></tr><tr><td>1</td><td><div class=\"dni-plaintext\">4348159</div></td><td><div class=\"dni-plaintext\">[ 910, 991, 17, 31, 156, 155, 1001, 541 ]</div></td></tr><tr><td>2</td><td><div class=\"dni-plaintext\">4690173</div></td><td><div class=\"dni-plaintext\">[ 910, 31, 5008 ]</div></td></tr></tbody></table>"
      ]
     },
     "execution_count": 25,
     "metadata": {},
     "output_type": "execute_result"
    }
   ],
   "source": [
    "entities.Take(3)"
   ]
  },
  {
   "cell_type": "markdown",
   "metadata": {},
   "source": [
    "# Scoring"
   ]
  },
  {
   "cell_type": "markdown",
   "metadata": {},
   "source": [
    "## Demonstrate a few scores"
   ]
  },
  {
   "cell_type": "markdown",
   "metadata": {},
   "source": [
    "Let's score first entity with first super-entity"
   ]
  },
  {
   "cell_type": "code",
   "execution_count": 33,
   "metadata": {},
   "outputs": [],
   "source": [
    "var scorer = new CosineScoringFunction().CreateScorer();"
   ]
  },
  {
   "cell_type": "code",
   "execution_count": 34,
   "metadata": {},
   "outputs": [
    {
     "data": {
      "text/html": [
       "<div class=\"dni-plaintext\">0.20200212</div>"
      ]
     },
     "execution_count": 34,
     "metadata": {},
     "output_type": "execute_result"
    },
    {
     "data": {
      "text/plain": [
       "Wall time: 58.3528ms"
      ]
     },
     "metadata": {},
     "output_type": "display_data"
    }
   ],
   "source": [
    "#!time\n",
    "//     properties of first entity    property frequencies of 1st super-entity\n",
    "scorer.Score(entities.First(), freq.First())"
   ]
  },
  {
   "cell_type": "markdown",
   "metadata": {},
   "source": [
    "Let's try a few more."
   ]
  },
  {
   "cell_type": "code",
   "execution_count": 36,
   "metadata": {},
   "outputs": [
    {
     "data": {
      "text/html": [
       "<table><thead><tr><th><i>index</i></th><th>Entity</th><th>Type</th><th>score</th></tr></thead><tbody><tr><td>0</td><td><div class=\"dni-plaintext\">34786</div></td><td><div class=\"dni-plaintext\">3624078</div></td><td><div class=\"dni-plaintext\">0.20200212</div></td></tr><tr><td>1</td><td><div class=\"dni-plaintext\">34786</div></td><td><div class=\"dni-plaintext\">9415</div></td><td><div class=\"dni-plaintext\">0.46221933</div></td></tr><tr><td>2</td><td><div class=\"dni-plaintext\">34786</div></td><td><div class=\"dni-plaintext\">5</div></td><td><div class=\"dni-plaintext\">0.2414603</div></td></tr><tr><td>3</td><td><div class=\"dni-plaintext\">34786</div></td><td><div class=\"dni-plaintext\">15773317</div></td><td><div class=\"dni-plaintext\">0.20761646</div></td></tr><tr><td>4</td><td><div class=\"dni-plaintext\">34786</div></td><td><div class=\"dni-plaintext\">15633582</div></td><td><div class=\"dni-plaintext\">0.34560657</div></td></tr></tbody></table>"
      ]
     },
     "execution_count": 36,
     "metadata": {},
     "output_type": "execute_result"
    },
    {
     "data": {
      "text/plain": [
       "Wall time: 74.0592ms"
      ]
     },
     "metadata": {},
     "output_type": "display_data"
    }
   ],
   "source": [
    "#!time\n",
    "entities.SelectMany(e =>\n",
    "  freq.Select(f =>\n",
    "  {\n",
    "    var score = scorer.Score(e, f);\n",
    "    return new { Entity = e.Id, Type = f.Id, score };   \n",
    "  }))\n",
    "  .Take(5)"
   ]
  },
  {
   "cell_type": "markdown",
   "metadata": {},
   "source": [
    "## Calculate timing"
   ]
  },
  {
   "cell_type": "code",
   "execution_count": 37,
   "metadata": {},
   "outputs": [
    {
     "data": {
      "text/plain": [
       "Wall time: 22261.0099ms"
      ]
     },
     "metadata": {},
     "output_type": "display_data"
    }
   ],
   "source": [
    "#!time\n",
    "entities.Take(5).SelectMany(e =>\n",
    "  freq.Select(f =>\n",
    "  {\n",
    "    var score = scorer.Score(e, f);\n",
    "    return new { Entity = e.Id, Type = f.Id, Score = score };   \n",
    "  }))\n",
    " .GroupBy(res => res.Entity)\n",
    "  .Select(g => new {\n",
    "      Entity = g.Key,\n",
    "      Types = g.OrderByDescending(e => e.Score)\n",
    "               .Select(e => new {\n",
    "                    e.Type,\n",
    "                    e.Score\n",
    "                })\n",
    "  })\n",
    "  .ToArray();\n"
   ]
  },
  {
   "cell_type": "markdown",
   "metadata": {},
   "source": [
    "On Rivanna, we could compute all entities in about 5 weeks if we use 40 cores:"
   ]
  },
  {
   "cell_type": "code",
   "execution_count": 42,
   "metadata": {},
   "outputs": [
    {
     "data": {
      "text/html": [
       "<div class=\"dni-plaintext\">0.06183611111111111</div>"
      ]
     },
     "execution_count": 42,
     "metadata": {},
     "output_type": "execute_result"
    }
   ],
   "source": [
    "entities.Count() \n",
    "    / 5.0   \n",
    "    * 22_261\n",
    "    /1000  // sec\n",
    "    /60    // min\n",
    "    /60    // hr\n",
    "    /20    // parallelism"
   ]
  },
  {
   "cell_type": "markdown",
   "metadata": {},
   "source": [
    "## Parallel pipeline"
   ]
  },
  {
   "cell_type": "markdown",
   "metadata": {},
   "source": [
    "Let's set up a pipeline so we can use multiple cores."
   ]
  },
  {
   "cell_type": "code",
   "execution_count": 48,
   "metadata": {},
   "outputs": [],
   "source": [
    "Action<EntityMatches> DoNothing = _ => {};"
   ]
  },
  {
   "cell_type": "code",
   "execution_count": 46,
   "metadata": {},
   "outputs": [],
   "source": [
    "var su = new ScoreUtils();"
   ]
  },
  {
   "cell_type": "code",
   "execution_count": 44,
   "metadata": {},
   "outputs": [],
   "source": [
    "var functions = new ScoringFunction[] {\n",
    "    new CosineScoringFunction(),\n",
    "    new ManhattanScoringFunction(),\n",
    "    new JaccardScoringFunction(),\n",
    "    new InnerProductScoringFunction(),\n",
    "    new WeightedInnerProductScoringFunction(1, -1, -1, 0)    \n",
    "};"
   ]
  },
  {
   "cell_type": "code",
   "execution_count": 49,
   "metadata": {},
   "outputs": [
    {
     "data": {
      "text/plain": [
       "Wall time: 21473.9969ms"
      ]
     },
     "metadata": {},
     "output_type": "display_data"
    }
   ],
   "source": [
    "#!time \n",
    "su.GetScoresToFunction(entities.Take(5), freq, functions, DoNothing);"
   ]
  },
  {
   "cell_type": "code",
   "execution_count": 54,
   "metadata": {},
   "outputs": [],
   "source": [
    "var scoreResults = su.GetScores(entities, freq, functions, dop: 20);"
   ]
  },
  {
   "cell_type": "code",
   "execution_count": 57,
   "metadata": {},
   "outputs": [],
   "source": [
    "using(var f = new FileStream($\"/scratch/jag2j/final_data/aux/raw_scores.csv\", FileMode.Create)) \n",
    "using(var tw = new StreamWriter(f))\n",
    "{    \n",
    "    tw.AutoFlush = true;\n",
    "    tw.WriteLine(\"entity,type,score_type,score_value\");\n",
    "    foreach(var res in scoreResults) {\n",
    "        var entity = res.BaseEntity; \n",
    "        foreach(var match in res.Matches) {\n",
    "            var type = match.MatchedEntity;\n",
    "            foreach(var score in match.Scores) {\n",
    "                var func = score.Scorer;\n",
    "                var val = score.Value;\n",
    "                tw.WriteLine($\"{entity},{type},{func},{val}\");\n",
    "            }\n",
    "        }\n",
    "    }\n",
    "}"
   ]
  },
  {
   "cell_type": "code",
   "execution_count": 61,
   "metadata": {},
   "outputs": [
    {
     "data": {
      "text/html": [
       "<table><thead><tr><th><i>index</i></th><th>Scorer</th><th>Value</th></tr></thead><tbody><tr><td>0</td><td><div class=\"dni-plaintext\">CosineScorer</div></td><td><div class=\"dni-plaintext\">0.12192716</div></td></tr><tr><td>1</td><td><div class=\"dni-plaintext\">ManhattanScorer</div></td><td><div class=\"dni-plaintext\">44.39133</div></td></tr><tr><td>2</td><td><div class=\"dni-plaintext\">JaccardScorer</div></td><td><div class=\"dni-plaintext\">0.010869565</div></td></tr><tr><td>3</td><td><div class=\"dni-plaintext\">InnerProductScorer</div></td><td><div class=\"dni-plaintext\">1</div></td></tr><tr><td>4</td><td><div class=\"dni-plaintext\">WeightedInnerProductScorer</div></td><td><div class=\"dni-plaintext\">-43.39133</div></td></tr></tbody></table>"
      ]
     },
     "execution_count": 61,
     "metadata": {},
     "output_type": "execute_result"
    }
   ],
   "source": [
    "scoreResults.FirstOrDefault().Matches.FirstOrDefault().Scores"
   ]
  },
  {
   "cell_type": "markdown",
   "metadata": {},
   "source": [
    "## Create weights"
   ]
  },
  {
   "cell_type": "code",
   "execution_count": 66,
   "metadata": {},
   "outputs": [],
   "source": [
    "using System;"
   ]
  },
  {
   "cell_type": "code",
   "execution_count": 74,
   "metadata": {},
   "outputs": [],
   "source": [
    "var weights = se_sum.ToDictionary(s => s.Key, s => Math.Log(s.Value));"
   ]
  },
  {
   "cell_type": "markdown",
   "metadata": {},
   "source": [
    "## Split"
   ]
  },
  {
   "cell_type": "code",
   "execution_count": 77,
   "metadata": {},
   "outputs": [],
   "source": [
    "using System.Threading.Tasks;"
   ]
  },
  {
   "cell_type": "code",
   "execution_count": 82,
   "metadata": {},
   "outputs": [],
   "source": [
    "var po = new ParallelOptions { MaxDegreeOfParallelism = 20 };"
   ]
  },
  {
   "cell_type": "code",
   "execution_count": 98,
   "metadata": {},
   "outputs": [
    {
     "name": "stderr",
     "output_type": "stream",
     "text": [
      "\n",
      "(2,16): warning CS0649: Field 'SpecificMatch.Type' is never assigned to, and will always have its default value 0\n",
      "\n",
      "(3,18): warning CS0649: Field 'SpecificMatch.Score' is never assigned to, and will always have its default value 0\n",
      "\n"
     ]
    }
   ],
   "source": [
    "class SpecificMatch {\n",
    "    public int Type;\n",
    "    public float Score;\n",
    "}"
   ]
  },
  {
   "cell_type": "code",
   "execution_count": 105,
   "metadata": {},
   "outputs": [
    {
     "name": "stdout",
     "output_type": "stream",
     "text": [
      "CosineScorer -> /scratch/jag2j/final_data/result_cosine.csv\n",
      "CosineScorer -> /scratch/jag2j/final_data/result_cosine_wgt.csv\n",
      "ManhattanScorer -> /scratch/jag2j/final_data/result_manhattan.csv\n",
      "JaccardScorer -> /scratch/jag2j/final_data/result_jaccard.csv\n",
      "ManhattanScorer -> /scratch/jag2j/final_data/result_manhattan_wgt.csv\n",
      "JaccardScorer -> /scratch/jag2j/final_data/result_jaccard_wgt.csv\n",
      "InnerProductScorer -> /scratch/jag2j/final_data/result_innerproduct.csv\n",
      "InnerProductScorer -> /scratch/jag2j/final_data/result_innerproduct_wgt.csv\n",
      "WeightedInnerProductScorer -> /scratch/jag2j/final_data/result_pen_inner_prod.csv\n",
      "WeightedInnerProductScorer -> /scratch/jag2j/final_data/result_pen_inner_prod_wgt.csv\n"
     ]
    }
   ],
   "source": [
    "Parallel.ForEach(new[] { false, true }, po, weighted => \n",
    "{\n",
    "    Parallel.ForEach(new[] { \"Cosine\", \"Manhattan\", \"Jaccard\", \"InnerProduct\", \"WeightedInnerProduct\" }, po, scorer => \n",
    "    {\n",
    "        var filename = \n",
    "            \"result_\" +\n",
    "            scorer.Replace(\"WeightedInnerProduct\", \"pen_inner_prod\").ToLower() +\n",
    "            (weighted ? \"_wgt\" : \"\") +\n",
    "            \".csv\";\n",
    "        \n",
    "        var path = $\"/scratch/jag2j/final_data/{filename}\";\n",
    "\n",
    "        var scorerName = $\"{scorer}Scorer\";\n",
    "        \n",
    "        Console.WriteLine($\"{scorerName} -> {path}\");\n",
    "        using(var fs = new FileStream(path, FileMode.Create, FileAccess.Write, FileShare.ReadWrite))\n",
    "        using(var sw = new StreamWriter(fs))\n",
    "        {\n",
    "            var tw = TextWriter.Synchronized(sw);\n",
    "            tw.WriteLine(\"entity,type,score\");\n",
    "            \n",
    "            // each test item for which we find test results\n",
    "            Parallel.ForEach(scoreResults, po, res => {\n",
    "                var entity = res.BaseEntity;\n",
    "\n",
    "                var scoredMatches = res.Matches\n",
    "                                       .Select(m => new {\n",
    "                                           Type = m.MatchedEntity,\n",
    "                                           Score = m.Scores.Where(s => s.Scorer == scorerName)\n",
    "                                                           .Select(s => s.Value)\n",
    "                                                           .FirstOrDefault()\n",
    "                                                   * (weighted ? weights[m.MatchedEntity] : 1)\n",
    "                                       })\n",
    "                                       .OrderByDescending(m => m.Score)\n",
    "                                       .Take(10);            \n",
    "                \n",
    "                foreach(var s in scoredMatches) {\n",
    "                    tw.WriteLine($\"{entity},{s.Type},{s.Score}\");\n",
    "                }\n",
    "            });\n",
    "        }\n",
    "        \n",
    "    });\n",
    "});"
   ]
  }
 ],
 "metadata": {
  "kernelspec": {
   "display_name": ".NET (C#)",
   "language": "C#",
   "name": ".net-csharp"
  },
  "language_info": {
   "file_extension": ".cs",
   "mimetype": "text/x-csharp",
   "name": "C#",
   "pygments_lexer": "csharp",
   "version": "8.0"
  }
 },
 "nbformat": 4,
 "nbformat_minor": 4
}
